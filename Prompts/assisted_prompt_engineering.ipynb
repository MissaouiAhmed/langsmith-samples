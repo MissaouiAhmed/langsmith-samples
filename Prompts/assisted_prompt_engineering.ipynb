{
  "cells": [
    {
      "cell_type": "markdown",
      "metadata": {
        "id": "view-in-github",
        "colab_type": "text"
      },
      "source": [
        "<a href=\"https://colab.research.google.com/github/MissaouiAhmed/langsmith-samples/blob/main/Prompts/assisted_prompt_engineering.ipynb\" target=\"_parent\"><img src=\"https://colab.research.google.com/assets/colab-badge.svg\" alt=\"Open In Colab\"/></a>"
      ]
    },
    {
      "cell_type": "markdown",
      "id": "c56f6b50-d708-43c5-acd2-ad948cdc1797",
      "metadata": {
        "id": "c56f6b50-d708-43c5-acd2-ad948cdc1797"
      },
      "source": [
        "# Prompt Bootstrapping with Human Feedback\n",
        "\n",
        "Prompt engineering isn't always the most fun, especially when it comes to tasks where metrics are hard to defined. Crafting a prompt is often an iterative process, and it can be hard to get over the initial \"cold start problem\" of creating good prompts and datasets.\n",
        "\n",
        "Turns out LLMs can do a [decent job at prompt engineering](https://arxiv.org/abs/2211.01910), especially when incorporating human feedback on representative data. For lack of a better term, I'll call this form of prompt optimization \"Prompt Bootstrapping\", since it iteratively refines a prompt via instruction tuning distilled from human feedback. Below is an overview of the process.\n",
        "\n",
        "![Prompt Bootstrapping Diagram](./img/prompt-bootstrapping.png)\n",
        "\n",
        "LangSmith makes this this whole flow very easy. Let's give it a whirl!\n",
        "\n",
        "This example is based on [@alexalbert's example Claude workflow](https://twitter.com/alexalbert__/status/1767258557039378511?s=20)."
      ]
    },
    {
      "cell_type": "code",
      "execution_count": 54,
      "id": "191baa94-41b2-4aaf-b621-aaf8171566d7",
      "metadata": {
        "id": "191baa94-41b2-4aaf-b621-aaf8171566d7"
      },
      "outputs": [],
      "source": [
        "%pip install -U langsmith langchain_anthropic langchain arxiv langchain_openai langchain_community pymupdf --quiet"
      ]
    },
    {
      "cell_type": "code",
      "execution_count": 55,
      "id": "b20f9596-dcd5-4928-a6f0-e4f75e1cf843",
      "metadata": {
        "id": "b20f9596-dcd5-4928-a6f0-e4f75e1cf843"
      },
      "outputs": [],
      "source": [
        "import os\n",
        "from google.colab import userdata\n",
        "\n",
        "# Update with your API URL if using a hosted instance of Langsmith.\n",
        "os.environ[\"LANGCHAIN_ENDPOINT\"] = \"https://api.smith.langchain.com\"\n",
        "os.environ[\"LANGCHAIN_API_KEY\"] = userdata.get('LANGCHAIN_API_KEY')\n",
        "# We are using Anthropic here as well\n",
        "os.environ[\"ANTHROPIC_API_KEY\"] = userdata.get('ANTHROPIC_API_KEY')\n",
        "os.environ[\"OPENAI_API_KEY\"] = userdata.get('OPENAI_API_KEY')"
      ]
    },
    {
      "cell_type": "code",
      "execution_count": 56,
      "id": "e5ac85d1-d72f-482e-8488-6a848ae98c29",
      "metadata": {
        "id": "e5ac85d1-d72f-482e-8488-6a848ae98c29"
      },
      "outputs": [],
      "source": [
        "from langsmith import Client\n",
        "\n",
        "client = Client()"
      ]
    },
    {
      "cell_type": "markdown",
      "id": "c9fb8d0a-7618-4d93-ae82-ae150a3acc28",
      "metadata": {
        "id": "c9fb8d0a-7618-4d93-ae82-ae150a3acc28"
      },
      "source": [
        "# 1. Pick a task\n",
        "\n",
        "Let's say I want to write a tweet generator about academic papers, one that is catchy but not laden with too many buzzwords\n",
        "or impersonal. Let's see if we can \"optimize\" a prompt without having to engineer it ourselves.\n",
        "\n",
        "We will use the meta-prompt ([wfh/metaprompt](https://smith.langchain.com/hub/wfh/metaprompt)) from the Hub to generate our first prompt candidate to solve this task."
      ]
    },
    {
      "cell_type": "code",
      "source": [
        "from langchain import hub\n",
        "from langchain_anthropic import ChatAnthropic\n",
        "from langchain_core.output_parsers import StrOutputParser\n",
        "\n",
        "task = (\n",
        "    \"Generate a tweet to market an academic paper or open source project. It should be\"\n",
        "    \" well crafted but avoid gimicks or over-reliance on buzzwords.\"\n",
        ")\n",
        "\n",
        "from langchain_openai import ChatOpenAI\n",
        "# See: https://smith.langchain.com/hub/wfh/metaprompt\n",
        "prompt = hub.pull(\"wfh/metaprompt\")\n",
        "llm = ChatOpenAI(\n",
        "        model=\"gpt-4o\",\n",
        "        temperature=0,\n",
        "    )\n",
        "\n",
        "\n",
        "def get_instructions(gen: str):\n",
        "    return gen.split(\"<Instructions>\")[1].split(\"</Instructions>\")[0]\n",
        "\n",
        "\n",
        "meta_prompter = prompt | llm | StrOutputParser() | get_instructions\n",
        "recommended_prompt = meta_prompter.invoke(\n",
        "    {\n",
        "        \"task\": task,\n",
        "        \"input_variables\": \"\"\"\n",
        "{paper}\n",
        "\"\"\",\n",
        "    }\n",
        ")\n",
        "print(recommended_prompt)"
      ],
      "metadata": {
        "colab": {
          "base_uri": "https://localhost:8080/"
        },
        "id": "3W49FR7XmMe8",
        "outputId": "a22e399f-05a1-4516-c609-8cf6a6975e30"
      },
      "id": "3W49FR7XmMe8",
      "execution_count": 57,
      "outputs": [
        {
          "output_type": "stream",
          "name": "stdout",
          "text": [
            "\n",
            "You are tasked with generating a tweet to market an academic paper or open source project. The content of the paper or project is provided below:\n",
            "\n",
            "<content>\n",
            "{paper}\n",
            "</content>\n",
            "\n",
            "Your goal is to craft a well-structured tweet that effectively communicates the essence of the paper or project. Here are the key elements to include in the tweet:\n",
            "\n",
            "- A brief summary of the paper or project, highlighting its main focus or findings.\n",
            "- The significance or potential impact of the work, explaining why it matters.\n",
            "- A call to action, encouraging the audience to read the paper or explore the project further.\n",
            "\n",
            "When crafting the tweet, avoid using gimmicks or over-relying on buzzwords. Instead, focus on clarity, relevance, and engaging the audience with the core message of the paper or project.\n",
            "\n",
            "Write your tweet inside <tweet> tags.\n",
            "\n"
          ]
        }
      ]
    },
    {
      "cell_type": "markdown",
      "id": "13ac4c64-98f8-43e4-ad63-a7797a9b6396",
      "metadata": {
        "id": "13ac4c64-98f8-43e4-ad63-a7797a9b6396"
      },
      "source": [
        "OK so it's a fine-not-great prompt. Let's see how it does!"
      ]
    },
    {
      "cell_type": "markdown",
      "id": "6f64f33f-328b-4609-b248-fa52214b5b76",
      "metadata": {
        "id": "6f64f33f-328b-4609-b248-fa52214b5b76"
      },
      "source": [
        "## 2. Dataset\n",
        "\n",
        "For some tasks you can generate them yourselves. For our notebook, we have created a 10-datapoint dataset of some scraped ArXiv papers."
      ]
    },
    {
      "cell_type": "code",
      "execution_count": 58,
      "id": "0e9ef2ef-d7be-4f41-b947-73407319611a",
      "metadata": {
        "id": "0e9ef2ef-d7be-4f41-b947-73407319611a"
      },
      "outputs": [],
      "source": [
        "from itertools import islice\n",
        "\n",
        "from langchain_community.utilities.arxiv import ArxivAPIWrapper\n",
        "\n",
        "wrapper = ArxivAPIWrapper(doc_content_chars_max=200_000)\n",
        "docs = list(islice(wrapper.lazy_load(\"Self-Replicating Language model Agents\"), 10))"
      ]
    },
    {
      "cell_type": "code",
      "source": [],
      "metadata": {
        "id": "qXenHqBVoczK"
      },
      "id": "qXenHqBVoczK",
      "execution_count": 58,
      "outputs": []
    },
    {
      "cell_type": "code",
      "execution_count": 59,
      "id": "cc80f9da-db1f-41c9-8db1-0f92b3acb48d",
      "metadata": {
        "colab": {
          "base_uri": "https://localhost:8080/"
        },
        "id": "cc80f9da-db1f-41c9-8db1-0f92b3acb48d",
        "outputId": "b5e2e84d-81d6-45b6-c331-0a4467f82145"
      },
      "outputs": [
        {
          "output_type": "execute_result",
          "data": {
            "text/plain": [
              "{'example_ids': ['fdf4d8d7-ce6f-4680-b20e-c860b9bf7670'], 'count': 1}"
            ]
          },
          "metadata": {},
          "execution_count": 59
        }
      ],
      "source": [
        "ds_name = \"Tweet Generator\"\n",
        "ds = client.create_dataset(dataset_name=ds_name)\n",
        "#client.create_examples(\n",
        "#    inputs=[{\"paper\": doc.page_content} for doc in docs[0]],\n",
        "#    dataset_id=ds.id,\n",
        "#)\n",
        "\n",
        "client.create_examples(\n",
        "    inputs=[{\"paper\": docs[0].page_content}],\n",
        "    dataset_id=ds.id,\n",
        ")\n",
        "\n"
      ]
    },
    {
      "cell_type": "markdown",
      "id": "b2dda2b0-e4f7-4394-9b65-6f4316399392",
      "metadata": {
        "id": "b2dda2b0-e4f7-4394-9b65-6f4316399392"
      },
      "source": [
        "## 3. Predict\n",
        "\n",
        "We will refrain from defining metrics for now (it's quite subjective). Instead we will run the first version of the generator against the dataset and manually review + provide feedback on the results."
      ]
    },
    {
      "cell_type": "code",
      "execution_count": 60,
      "id": "54cd01c1-8859-4fe7-a8ed-1ef430c475a2",
      "metadata": {
        "colab": {
          "base_uri": "https://localhost:8080/"
        },
        "id": "54cd01c1-8859-4fe7-a8ed-1ef430c475a2",
        "outputId": "3da886ac-ae3f-4ff3-a752-5c811f06893e"
      },
      "outputs": [
        {
          "output_type": "stream",
          "name": "stdout",
          "text": [
            "🚀 Dive into the world of mobile agents with Steven Versteeg's comprehensive thesis! Explore how languages like Java, Telescript, and Agent Tcl empower agents to migrate, communicate, and interact securely across networks. Discover the future of network computing and why these innovations matter. 📚 Read more: [link] #MobileAgents #NetworkComputing #ProgrammingLanguages\n"
          ]
        }
      ],
      "source": [
        "from langchain_core.prompts import PromptTemplate\n",
        "\n",
        "\n",
        "def parse_tweet(response: str):\n",
        "    try:\n",
        "        return response.split(\"<tweet>\")[1].split(\"</tweet>\")[0].strip()\n",
        "    except:\n",
        "        return response.strip()\n",
        "\n",
        "\n",
        "def create_tweet_generator(prompt_str: str):\n",
        "    prompt = PromptTemplate.from_template(prompt_str)\n",
        "    return prompt | llm | StrOutputParser() | parse_tweet\n",
        "\n",
        "\n",
        "tweet_generator = create_tweet_generator(recommended_prompt)\n",
        "\n",
        "# Example\n",
        "prediction = tweet_generator.invoke({\"paper\": docs[0].page_content})\n",
        "print(prediction)"
      ]
    },
    {
      "cell_type": "code",
      "execution_count": 61,
      "id": "a87a9b2d-a2fe-4e55-bc50-6e7bef4f98ba",
      "metadata": {
        "colab": {
          "base_uri": "https://localhost:8080/"
        },
        "id": "a87a9b2d-a2fe-4e55-bc50-6e7bef4f98ba",
        "outputId": "5f38d03c-523e-4c41-8286-c258a1e9916b"
      },
      "outputs": [
        {
          "output_type": "stream",
          "name": "stdout",
          "text": [
            "View the evaluation results for project 'helpful-map-8' at:\n",
            "https://smith.langchain.com/o/9f68f02e-02f8-464e-810c-347a3f2f34b3/datasets/b8baa542-a501-43bf-b2cc-8879111223fd/compare?selectedSessions=edac48fd-a333-4fe4-b1ee-91ab4e03120b\n",
            "\n",
            "View all tests for Dataset Tweet Generator at:\n",
            "https://smith.langchain.com/o/9f68f02e-02f8-464e-810c-347a3f2f34b3/datasets/b8baa542-a501-43bf-b2cc-8879111223fd\n",
            "[------------------------------------------------->] 1/1"
          ]
        }
      ],
      "source": [
        "res = client.run_on_dataset(\n",
        "    dataset_name=ds_name,\n",
        "    llm_or_chain_factory=tweet_generator,\n",
        ")"
      ]
    },
    {
      "cell_type": "markdown",
      "id": "a1b9a554-7504-4070-9a2a-ed0c09e656fc",
      "metadata": {
        "id": "a1b9a554-7504-4070-9a2a-ed0c09e656fc"
      },
      "source": [
        "## 4. Label\n",
        "\n",
        "Now, we will use an annotation queue to score + add notes to the results. We will use this to iterate on our prompt!\n",
        "\n",
        "For this notebook, I will be logging two types of feedback:\n",
        "\n",
        "`note`- freeform comments on the runs\n",
        "\n",
        "`tweet_quality` - a 0-4 score of the generated tweet based on my subjective preferences"
      ]
    },
    {
      "cell_type": "code",
      "execution_count": 63,
      "id": "94a24156-a2a9-49ee-98e9-f2f3d8f9ce65",
      "metadata": {
        "id": "94a24156-a2a9-49ee-98e9-f2f3d8f9ce65"
      },
      "outputs": [],
      "source": [
        "q = client.create_annotation_queue(name=\"Tweet Generator\")"
      ]
    },
    {
      "cell_type": "code",
      "execution_count": 65,
      "id": "6b6c2406-eb48-4abb-99f0-b8993ce607d6",
      "metadata": {
        "id": "6b6c2406-eb48-4abb-99f0-b8993ce607d6"
      },
      "outputs": [],
      "source": [
        "client.add_runs_to_annotation_queue(\n",
        "    q.id,\n",
        "    run_ids=[\n",
        "        r.id\n",
        "        for r in client.list_runs(project_name=res[\"project_name\"], execution_order=1)\n",
        "    ],\n",
        ")"
      ]
    },
    {
      "cell_type": "markdown",
      "id": "ae068c97-ced9-4496-b7a5-57213e493325",
      "metadata": {
        "id": "ae068c97-ced9-4496-b7a5-57213e493325"
      },
      "source": [
        "Now, go through the runs to label them. Return to this notebook when you are finished.\n",
        "\n",
        "![Queue](./img/queue.png)"
      ]
    },
    {
      "cell_type": "markdown",
      "id": "0b2ed075-38de-4a09-b073-63807039550e",
      "metadata": {
        "id": "0b2ed075-38de-4a09-b073-63807039550e"
      },
      "source": [
        "## 4. Update\n",
        "\n",
        "With the human feedback in place, let's update the prompt and try again."
      ]
    },
    {
      "cell_type": "code",
      "execution_count": 66,
      "id": "75f8f65e-40af-4c40-8ca4-ca07831b28a9",
      "metadata": {
        "id": "75f8f65e-40af-4c40-8ca4-ca07831b28a9"
      },
      "outputs": [],
      "source": [
        "from collections import defaultdict\n",
        "\n",
        "\n",
        "def format_feedback(single_feedback, max_score=4):\n",
        "    if single_feedback.score is None:\n",
        "        score = \"\"\n",
        "    else:\n",
        "        score = f\"\\nScore:[{single_feedback.score}/{max_score}]\"\n",
        "    comment = f\"\\n{single_feedback.comment}\".strip()\n",
        "    return f\"\"\"<feedback key={single_feedback.key}>{score}{comment}\n",
        "</feedback>\"\"\"\n",
        "\n",
        "\n",
        "def format_run_with_feedback(run, feedback):\n",
        "    all_feedback = \"\\n\".join([format_feedback(f) for f in feedback])\n",
        "    return f\"\"\"<example>\n",
        "<tweet>\n",
        "{run.outputs[\"output\"]}\n",
        "</tweet>\n",
        "<annotations>\n",
        "{all_feedback}\n",
        "</annotations>\n",
        "</example>\"\"\"\n",
        "\n",
        "\n",
        "def get_formatted_feedback(project_name: str):\n",
        "    traces = list(client.list_runs(project_name=project_name, execution_order=1))\n",
        "    feedbacks = defaultdict(list)\n",
        "    for f in client.list_feedback(run_ids=[r.id for r in traces]):\n",
        "        feedbacks[f.run_id].append(f)\n",
        "    return [\n",
        "        format_run_with_feedback(r, feedbacks[r.id])\n",
        "        for r in traces\n",
        "        if r.id in feedbacks\n",
        "    ]"
      ]
    },
    {
      "cell_type": "code",
      "execution_count": 67,
      "id": "6fd4c807-ef3f-4520-a77f-ad813252f257",
      "metadata": {
        "id": "6fd4c807-ef3f-4520-a77f-ad813252f257"
      },
      "outputs": [],
      "source": [
        "formatted_feedback = get_formatted_feedback(res[\"project_name\"])"
      ]
    },
    {
      "cell_type": "markdown",
      "id": "f05c907a-73d3-45c5-812f-9631bb63c21c",
      "metadata": {
        "id": "f05c907a-73d3-45c5-812f-9631bb63c21c"
      },
      "source": [
        "LLMs are especially good at 2 things:\n",
        "1. Generating grammatical text\n",
        "2. Summarization\n",
        "\n",
        "Now that we've left a mixture of scores and free-form comments, we can use an \"optimizer prompt\" ([wfh/optimizerprompt](https://smith.langchain.com/hub/wfh/optimizerprompt)) to incorporate the feedback into an updated prompt.\n"
      ]
    },
    {
      "cell_type": "code",
      "execution_count": 68,
      "id": "b41aa18b-a99e-4927-a155-83b8cdb4c3bf",
      "metadata": {
        "id": "b41aa18b-a99e-4927-a155-83b8cdb4c3bf"
      },
      "outputs": [],
      "source": [
        "# See: https://smith.langchain.com/hub/wfh/optimizerprompt\n",
        "optimizer_prompt = hub.pull(\"wfh/optimizerprompt\")\n",
        "\n",
        "\n",
        "def extract_new_prompt(gen: str):\n",
        "    return gen.split(\"<improved_prompt>\")[1].split(\"</improved_prompt>\")[0].strip()\n",
        "\n",
        "\n",
        "optimizer = optimizer_prompt | llm | StrOutputParser() | extract_new_prompt"
      ]
    },
    {
      "cell_type": "code",
      "execution_count": 69,
      "id": "d8f42771-a135-44c9-9534-e6f572089d30",
      "metadata": {
        "id": "d8f42771-a135-44c9-9534-e6f572089d30"
      },
      "outputs": [],
      "source": [
        "current_prompt = recommended_prompt\n",
        "new_prompt = optimizer.invoke(\n",
        "    {\n",
        "        \"current_prompt\": current_prompt,\n",
        "        \"annotated_predictions\": \"\\n\\n\".join(formatted_feedback).strip(),\n",
        "    }\n",
        ")"
      ]
    },
    {
      "cell_type": "code",
      "execution_count": 70,
      "id": "4eac1918-1c85-420a-9519-a924a11a8f00",
      "metadata": {
        "colab": {
          "base_uri": "https://localhost:8080/"
        },
        "id": "4eac1918-1c85-420a-9519-a924a11a8f00",
        "outputId": "dc32ea7e-9e5e-4ad5-81ee-bdd1782590ed"
      },
      "outputs": [
        {
          "output_type": "stream",
          "name": "stdout",
          "text": [
            "Original Prompt\n",
            "\n",
            "\n",
            "You are tasked with generating a tweet to market an academic paper or open source project. The content of the paper or project is provided below:\n",
            "\n",
            "<content>\n",
            "{paper}\n",
            "</content>\n",
            "\n",
            "Your goal is to craft a well-structured tweet that effectively communicates the essence of the paper or project. Here are the key elements to include in the tweet:\n",
            "\n",
            "- A brief summary of the paper or project, highlighting its main focus or findings.\n",
            "- The significance or potential impact of the work, explaining why it matters.\n",
            "- A call to action, encouraging the audience to read the paper or explore the project further.\n",
            "\n",
            "When crafting the tweet, avoid using gimmicks or over-relying on buzzwords. Instead, focus on clarity, relevance, and engaging the audience with the core message of the paper or project.\n",
            "\n",
            "Write your tweet inside <tweet> tags.\n",
            "\n",
            "********************************************************************************\n",
            "New Prompt\n",
            "\n",
            "You are tasked with generating a tweet to market an academic paper or open-source project. The content of the paper or project is provided below:\n",
            "\n",
            "<content>\n",
            "{paper}\n",
            "</content>\n",
            "\n",
            "Your goal is to craft a concise and engaging tweet that effectively communicates the essence of the paper or project. Here are the key elements to include in the tweet:\n",
            "\n",
            "1. **Brief Summary**: Start with a clear and concise summary of the paper or project, focusing on its main focus or findings. Aim for one sentence that captures the core idea.\n",
            "\n",
            "2. **Significance and Impact**: Explain the significance or potential impact of the work in a way that resonates with the audience. Highlight why this work matters and how it could influence the field or society.\n",
            "\n",
            "3. **Call to Action**: Conclude with a compelling call to action, encouraging the audience to read the paper or explore the project further. Use action-oriented language to motivate engagement.\n",
            "\n",
            "**Guidelines for Crafting the Tweet**:\n",
            "- Prioritize clarity and relevance over jargon or buzzwords.\n",
            "- Use an engaging tone that aligns with the academic or technical nature of the content.\n",
            "- Keep the tweet within the character limit of 280 characters, ensuring it is concise yet informative.\n",
            "- Consider including a relevant hashtag or mention to increase visibility, if applicable.\n",
            "\n",
            "**Example of a High-Quality Tweet**:\n",
            "\"Discover how {paper's main focus} is transforming {field/area}. This groundbreaking study reveals {key finding}, paving the way for {potential impact}. Dive into the details: [link] #ResearchImpact\"\n",
            "\n",
            "Write your tweet inside <tweet> tags.\n"
          ]
        }
      ],
      "source": [
        "print(\"Original Prompt\\n\\n\" + current_prompt)\n",
        "print(\"*\" * 80 + \"\\nNew Prompt\\n\\n\" + new_prompt)"
      ]
    },
    {
      "cell_type": "markdown",
      "id": "316756d0-30d9-45bd-a3f4-e737bf4430de",
      "metadata": {
        "id": "316756d0-30d9-45bd-a3f4-e737bf4430de"
      },
      "source": [
        "## 5. Repeat!\n",
        "\n",
        "Now that we have an \"upgraded\" prompt, we can test it out again and repeat until we are satisfied with the result.\n",
        "\n",
        "If you find the prompt isn't converging to something you want, you can manually update the prompt (you are the optimizer in this case) and/or be more explicit in your free-form note feedback."
      ]
    },
    {
      "cell_type": "code",
      "execution_count": 71,
      "id": "f2aef764-ef56-4e21-83ac-f51f7f0e7112",
      "metadata": {
        "colab": {
          "base_uri": "https://localhost:8080/"
        },
        "id": "f2aef764-ef56-4e21-83ac-f51f7f0e7112",
        "outputId": "75f94872-7a21-4d79-de9a-3b4191b67a90"
      },
      "outputs": [
        {
          "output_type": "stream",
          "name": "stdout",
          "text": [
            "View the evaluation results for project 'earnest-wish-26' at:\n",
            "https://smith.langchain.com/o/9f68f02e-02f8-464e-810c-347a3f2f34b3/datasets/b8baa542-a501-43bf-b2cc-8879111223fd/compare?selectedSessions=c3ba6aaa-e1ad-4650-b5b7-19c920ea5d6c\n",
            "\n",
            "View all tests for Dataset Tweet Generator at:\n",
            "https://smith.langchain.com/o/9f68f02e-02f8-464e-810c-347a3f2f34b3/datasets/b8baa542-a501-43bf-b2cc-8879111223fd\n"
          ]
        },
        {
          "output_type": "stream",
          "name": "stderr",
          "text": [
            "WARNING:langchain.smith.evaluation.runner_utils:Chain failed for example fdf4d8d7-ce6f-4680-b20e-c860b9bf7670 with inputs {'paper': ' \\nLanguages\\xa0for\\xa0Mobile\\xa0Agents \\nSteven\\xa0Versteeg\\xa0\\n\\xa0\\nSupervisor:\\xa0Leon\\xa0Sterling\\xa0\\n\\xa0\\n433\\xad463\\xa0Thesis\\xa0\\nDepartment\\xa0of\\xa0Computer\\xa0Science\\xa0and\\xa0Software\\xa0Engineering\\xa0\\nUniversity\\xa0of\\xa0Melbourne\\xa0\\n\\xa025\\xa0August,\\xa01997\\xa0\\n\\xa0\\u200bAbstract\\xa0\\nMobile\\xa0agents\\xa0represent\\xa0a\\xa0new\\xa0model\\xa0for\\xa0network\\xa0computing.\\xa0\\xa0Many\\xa0different\\xa0languages\\xa0\\nhave\\xa0been\\xa0used\\xa0to\\xa0implement\\xa0mobile\\xa0agents.\\xa0\\xa0The\\xa0characteristics\\xa0that\\xa0make\\xa0a\\xa0language\\xa0\\nuseful\\xa0for\\xa0writing\\xa0mobile\\xa0agents\\xa0are:\\xa0(1)\\xa0their\\xa0support\\xa0of\\xa0agent\\xa0migration,\\xa0(2)\\xa0their\\xa0support\\xa0\\nfor\\xa0agent\\xadto\\xadagent\\xa0communication,\\xa0(3)\\xa0how\\xa0they\\xa0allow\\xa0agents\\xa0to\\xa0interact\\xa0with\\xa0local\\xa0\\nresources,\\xa0(4)\\xa0security\\xa0mechanisms,\\xa0(5)\\xa0execution\\xa0efficiency,\\xa0(6)\\xa0language\\xa0\\nimplementation\\xa0across\\xa0multiple\\xa0platforms,\\xa0and\\xa0(7)\\xa0the\\xa0language\\'s\\xa0ease\\xa0of\\xa0programming\\xa0\\nof\\xa0the\\xa0tasks\\xa0mobile\\xa0agents\\xa0perform.\\xa0\\n\\xa0\\xa0\\n\\xa0\\n\\xa0\\n\\xa0\\n1.\\xa0Introduction\\xa0\\nMobile\\xa0agents\\xa0are\\xa0an\\xa0emerging\\xa0technology\\xa0that\\xa0promise\\xa0many\\xa0benefits\\xa0in\\xa0network\\xa0computing.\\xa0\\xa0A\\xa0\\nmobile\\xa0agent\\xa0is\\xa0a\\xa0program\\xa0that\\xa0can\\xa0migrate\\xa0from\\xa0one\\xa0computer\\xa0to\\xa0another\\xa0for\\xa0remote\\xa0execution.\\xa0\\nMany\\xa0different\\xa0languages\\xa0have\\xa0been\\xa0used\\xa0to\\xa0implement\\xa0mobile\\xa0agents.\\xa0\\xa0This\\xa0thesis\\xa0examines\\xa0\\nthe\\xa0characteristics\\xa0required\\xa0for\\xa0a\\xa0language\\xa0to\\xa0be\\xa0useful\\xa0for\\xa0writing\\xa0mobile\\xa0agents.\\xa0\\xa0Telescript,\\xa0\\nJava,\\xa0Agent\\xa0Tcl\\xa0and\\xa0Obliq\\xa0are\\xa0examples\\xa0of\\xa0mobile\\xa0agent\\xa0languages\\xa0that\\xa0are\\xa0examined\\xa0to\\xa0\\ndetermine\\xa0what\\xa0makes\\xa0them\\xa0useful.\\xa0\\n2.\\xa0Background\\xa0\\nMobile\\xa0agents\\xa0are\\xa0in\\xa0the\\xa0process\\xa0of\\xa0graduating\\xa0from\\xa0being\\xa0limited\\xa0to\\xa0research\\xa0systems\\xa0to\\xa0being\\xa0\\na\\xa0practical\\xa0technology\\xa0in\\xa0network\\xa0computing.\\xa0\\xa0Mobile\\xa0agents\\xa0are\\xa0computer\\xa0programs\\xa0which\\xa0may\\xa0\\nmigrate\\xa0from\\xa0one\\xa0computer\\xa0to\\xa0another\\xa0on\\xa0a\\xa0network.\\xa0\\xa0On\\xa0migration,\\xa0the\\xa0agent\\xa0suspends\\xa0at\\xa0an\\xa0\\narbitrary\\xa0point\\xa0before\\xa0migrating,\\xa0and\\xa0restarts\\xa0execution\\xa0at\\xa0that\\xa0point\\xa0when\\xa0it\\xa0resumes\\xa0execution\\xa0\\non\\xa0the\\xa0target\\xa0computer.\\xa0[Ven97]\\xa0[Gra95a]\\xa0\\xa0The\\xa0word\\xa0\\u200b\\nagent\\u200b\\n\\xa0is\\xa0used\\xa0to\\xa0describe\\xa0a\\xa0very\\xa0broad\\xa0\\nrange\\xa0of\\xa0programs.\\xa0\\xa0The\\xa0exact\\xa0definition\\xa0of\\xa0the\\xa0word\\xa0is\\xa0vague.\\xa0\\xa0Often\\xa0associated\\xa0with\\xa0agent\\xa0is\\xa0\\nthe\\xa0implication\\xa0that\\xa0the\\xa0programs\\xa0are\\xa0persistent,\\xa0autonomous\\xa0and\\xa0interact\\xa0with\\xa0their\\xa0\\nenvironment.\\xa0\\xa0Others\\xa0define\\xa0agent\\xa0to\\xa0simply\\xa0mean\\xa0a\\xa0program\\xa0that\\xa0does\\xa0a\\xa0task\\xa0on\\xa0behalf\\xa0of\\xa0a\\xa0\\nuser.\\xa0\\xa0Both\\xa0these\\xa0sets\\xa0of\\xa0properties\\xa0are\\xa0generally\\xa0true\\xa0of\\xa0mobile\\xa0agents.\\xa0\\xa0In\\xa0the\\xa0context\\xa0of\\xa0this\\xa0\\ndiscussion\\xa0mobile\\xa0agent\\xa0is\\xa0simply\\xa0a\\xa0program\\xa0that\\xa0can\\xa0migrate\\xa0from\\xa0one\\xa0computer\\xa0to\\xa0another.\\xa0\\nAny\\xa0other\\xa0conflicting\\xa0definitions\\xa0of\\xa0the\\xa0word\\xa0agent\\xa0should\\xa0be\\xa0ignored.\\xa0\\nThe\\xa0main\\xa0advantage\\xa0of\\xa0mobile\\xa0agents\\xa0is\\xa0that\\xa0they\\xa0can\\xa0bring\\xa0a\\xa0program\\xa0closer\\xa0to\\xa0the\\xa0information\\xa0\\nresources.\\xa0\\xa0The\\xa0mobile\\xa0agent\\xa0paradigm\\xa0stipulates\\xa0that\\xa0the\\xa0server\\xa0should\\xa0provide\\xa0set\\xa0of\\xa0basic\\xa0\\nservices.\\xa0\\xa0The\\xa0client\\xa0uses\\xa0the\\xa0services\\xa0provided\\xa0by\\xa0the\\xa0server\\xa0by\\xa0dispatching\\xa0a\\xa0program,\\xa0that\\xa0is\\xa0a\\xa0\\nmobile\\xa0agent,\\xa0to\\xa0the\\xa0server.\\xa0\\xa0The\\xa0mobile\\xa0agent\\xa0makes\\xa0use\\xa0of\\xa0the\\xa0server\\'s\\xa0basic\\xa0services,\\xa0in\\xa0the\\xa0\\nway\\xa0that\\xa0its\\xa0owner\\xa0intends.\\xa0\\xa0Mobile\\xa0agents\\xa0provide\\xa0no\\xa0new\\xa0functionality\\xa0that\\xa0cannot\\xa0be\\xa0achieved\\xa0\\nwith\\xa0traditional\\xa0client\\xadserver\\xa0interaction,\\xa0such\\xa0as\\xa0remote\\xa0procedure\\xa0call\\xa0(RPC).\\xa0\\xa0However,\\xa0they\\xa0\\nmake\\xa0implementing\\xa0any\\xa0new\\xa0functionality\\xa0much\\xa0easier.\\xa0\\xa0The\\xa0fundamental\\xa0advantage\\xa0is\\xa0they\\xa0\\nprovide\\xa0a\\xa0layer\\xa0of\\xa0abstraction,\\xa0between\\xa0the\\xa0services\\xa0provided\\xa0by\\xa0the\\xa0server\\xa0and\\xa0the\\xa0way\\xa0they\\xa0are\\xa0\\nused.\\xa0\\xa0For\\xa0a\\xa0further\\xa0introduction\\xa0into\\xa0mobile\\xa0agents,\\xa0and\\xa0a\\xa0critical\\xa0analysis\\xa0of\\xa0their\\xa0advantages,\\xa0\\nthe\\xa0reader\\xa0is\\xa0referred\\xa0to\\xa0Harrison,\\xa0Chess\\xa0and\\xa0Kershenbaum,\\xa0Mobile\\xa0agents:\\xa0Are\\xa0they\\xa0a\\xa0good\\xa0\\nidea?\\xa0[HCK95]\\xa0\\nIn\\xa0the\\xa0context\\xa0of\\xa0a\\xa0discussion\\xa0of\\xa0what\\xa0languages\\xa0are\\xa0useful\\xa0for\\xa0writing\\xa0mobile\\xa0agents,\\xa0it\\xa0is\\xa0\\nnecessary\\xa0to\\xa0know\\xa0what\\xa0type\\xa0of\\xa0applications\\xa0are\\xa0being\\xa0written.\\xa0\\xa0While\\xa0mobile\\xa0agents\\xa0are\\xa0not\\xa0\\nnew,\\xa0they\\xa0are\\xa0still\\xa0in\\xa0the\\xa0process\\xa0of\\xa0moving\\xa0from\\xa0research\\xa0systems\\xa0to\\xa0mainstream\\xa0computing.\\xa0\\nMobile\\xa0agents\\xa0are\\xa0expected\\xa0to\\xa0be\\xa0able\\xa0to\\xa0roam\\xa0over\\xa0heterogeneous\\xa0networks,\\xa0such\\xa0as\\xa0the\\xa0\\nInternet.\\xa0\\xa0The\\xa0types\\xa0of\\xa0applications\\xa0that\\xa0mobile\\xa0agents\\xa0are\\xa0envisioned\\xa0to\\xa0be\\xa0used\\xa0for\\xa0are:\\xa0\\n●\\nSearch\\xa0and\\xa0gathering\\xa0applications.\\xa0\\xa0Mobile\\xa0agents\\xa0roam\\xa0across\\xa0the\\xa0network,\\xa0searching\\xa0\\nthe\\xa0servers\\'\\xa0resources\\xa0for\\xa0a\\xa0specific\\xa0piece\\xa0of\\xa0information.\\xa0\\n●\\nMonitoring\\xa0programs.\\xa0\\xa0A\\xa0mobile\\xa0agent\\xa0sits\\xa0on\\xa0a\\xa0server\\xa0monitoring\\xa0information,\\xa0until\\xa0a\\xa0\\ncondition\\xa0is\\xa0met.\\xa0\\n●\\nElectronic\\xa0commerce.\\xa0\\xa0Mobile\\xa0agents\\xa0act\\xa0as\\xa0representatives\\xa0of\\xa0a\\xa0user,\\xa0and\\xa0search\\xa0for\\xa0\\nand\\xa0buy\\xa0products\\xa0on\\xa0the\\xa0user\\'s\\xa0behalf.\\xa0\\n●\\nDistributed\\xa0computing.\\xa0\\xa0Mobile\\xa0agents\\xa0can\\xa0be\\xa0used\\xa0as\\xa0mechanisms\\xa0to\\xa0distribute\\xa0\\ncomputation\\xa0across\\xa0the\\xa0network.\\xa0\\nThis\\xa0simple\\xa0example\\xa0illustrates\\xa0how\\xa0mobile\\xa0agents\\xa0can\\xa0be\\xa0usefully\\xa0applied.\\xa0\\xa0The\\xa0problem:\\xa0the\\xa0\\nuser\\xa0needs\\xa0to\\xa0be\\xa0informed,\\xa0exactly\\xa0when\\xa0the\\xa0stock\\xa0price\\xa0of\\xa0BHP\\xa0rises\\xa0above\\xa0a\\xa0certain\\xa0threshold.\\xa0\\nThe\\xa0mobile\\xa0agent\\xa0solution:\\xa0\\xa0A\\xa0mobile\\xa0agent\\xa0is\\xa0dispatched\\xa0from\\xa0the\\xa0user\\'s\\xa0computer\\xa0to\\xa0a\\xa0stock\\xa0\\nexchange\\xa0server,\\xa0that\\xa0provides\\xa0a\\xa0feed\\xa0of\\xa0the\\xa0course\\xa0of\\xa0sales\\xa0in\\xa0real\\xa0time.\\xa0\\xa0The\\xa0agent\\xa0sits\\xa0at\\xa0the\\xa0\\nserver\\xa0and\\xa0monitors\\xa0the\\xa0sales.\\xa0\\xa0When\\xa0it\\xa0finds\\xa0a\\xa0sale\\xa0with\\xa0a\\xa0price\\xa0above\\xa0the\\xa0threshold,\\xa0it\\xa0migrates\\xa0\\nback\\xa0to\\xa0the\\xa0client\\xa0computer\\xa0and\\xa0informs\\xa0the\\xa0user.\\xa0\\xa0The\\xa0whole\\xa0scenario\\xa0may\\xa0take\\xa0days\\xa0or\\xa0even\\xa0\\nweeks\\xa0to\\xa0complete.\\xa0\\xa0Only\\xa0two\\xa0network\\xa0communications\\xa0were\\xa0made.\\xa0\\xa0One\\xa0to\\xa0send\\xa0the\\xa0agent\\xa0to\\xa0\\nthe\\xa0stock\\xa0exchange\\xa0server,\\xa0and\\xa0one\\xa0to\\xa0send\\xa0it\\xa0back\\xa0again.\\xa0\\xa0Consider\\xa0the\\xa0alternative\\xa0ways\\xa0of\\xa0\\nimplementing\\xa0this\\xa0functionality.\\xa0\\xa0One\\xa0way\\xa0is\\xa0to\\xa0send\\xa0all\\xa0the\\xa0course\\xa0of\\xa0sales\\xa0information\\xa0from\\xa0the\\xa0\\nstock\\xa0exchange\\xa0server\\xa0to\\xa0the\\xa0users\\xa0computer.\\xa0\\xa0At\\xa0the\\xa0user\\'s\\xa0computer,\\xa0a\\xa0local\\xa0program\\xa0monitors\\xa0\\nthe\\xa0sale\\xa0price.\\xa0\\xa0This\\xa0solution\\xa0involves\\xa0thousands\\xa0of\\xa0network\\xa0communications.\\xa0\\xa0Another\\xa0solution\\xa0\\nis\\xa0to\\xa0use\\xa0Remote\\xa0Procedure\\xa0Call\\xa0(RPC).\\xa0\\xa0A\\xa0program\\xa0runs\\xa0on\\xa0the\\xa0user\\'s\\xa0computer\\xa0that\\xa0polls\\xa0\\nBHP\\'s\\xa0price\\xa0at\\xa0certain\\xa0time\\xa0intervals\\xa0through\\xa0a\\xa0RPC.\\xa0\\xa0This\\xa0alternative\\xa0is\\xa0causes\\xa0less\\xa0network\\xa0\\ntraffic,\\xa0but\\xa0still\\xa0much\\xa0more\\xa0than\\xa0for\\xa0the\\xa0mobile\\xa0agent\\xa0solution.\\xa0\\nA\\xa0mobile\\xa0agent\\xa0is\\xa0merely\\xa0a\\xa0program.\\xa0\\xa0The\\xa0mobile\\xa0agent\\xa0requires\\xa0an\\xa0environment\\xa0on\\xa0potential\\xa0\\nhosts\\xa0to\\xa0run\\xa0on.\\xa0\\xa0All\\xa0agent\\xa0systems\\xa0have\\xa0an\\xa0\\u200b\\nagent\\xa0server\\u200b\\n\\xa0running\\xa0on\\xa0all\\xa0potential\\xa0host\\xa0machines.\\xa0\\nThe\\xa0agent\\xa0server\\xa0acts\\xa0like\\xa0an\\xa0operating\\xa0system\\xa0for\\xa0mobile\\xa0agents.\\xa0\\xa0The\\xa0agent\\xa0server\\xa0is\\xa0\\nresponsible\\xa0for:\\xa0(1)\\xa0providing\\xa0an\\xa0environment\\xa0for\\xa0the\\xa0agent\\xa0to\\xa0run\\xa0in;\\xa0(2)\\xa0transferring\\xa0and\\xa0\\nreceiving\\xa0agents\\xa0to\\xa0and\\xa0from\\xa0different\\xa0agent\\xa0servers;\\xa0and\\xa0(3)\\xa0implementing\\xa0an\\xa0API\\xa0for\\xa0\\nmessaging\\xa0between\\xa0agents\\xa0and\\xa0agent\\xa0transfer\\xa0requests.\\xa0\\xa0It\\xa0is\\xa0also\\xa0the\\xa0responsibility\\xa0of\\xa0the\\xa0agent\\xa0\\nserver\\xa0to\\xa0protect\\xa0the\\xa0host\\xa0computer\\xa0from\\xa0hostile\\xa0mobile\\xa0agents.\\xa0\\nMobile\\xa0agents\\xa0programs\\xa0are\\xa0only\\xa0able\\xa0to\\xa0run\\xa0on\\xa0hosts\\xa0that\\xa0have\\xa0an\\xa0execution\\xa0environment\\xa0that\\xa0\\ninterprets\\xa0the\\xa0language\\xa0they\\xa0were\\xa0written\\xa0in.\\xa0\\xa0There\\xa0generally\\xa0needs\\xa0to\\xa0be\\xa0a\\xa0separate\\xa0kind\\xa0of\\xa0\\nexecution\\xa0environment\\xa0for\\xa0each\\xa0language.\\xa0\\xa0It\\xa0is\\xa0possible\\xa0for\\xa0an\\xa0agent\\xa0server\\xa0to\\xa0be\\xa0able\\xa0to\\xa0\\nsupport\\xa0more\\xa0than\\xa0one\\xa0language,\\xa0however\\xa0there\\xa0are\\xa0presently\\xa0many\\xa0competing\\xa0and\\xa0\\nincompatible\\xa0types\\xa0of\\xa0agent\\xa0servers,\\xa0each\\xa0only\\xa0capable\\xa0of\\xa0interpreting\\xa0at\\xa0most\\xa0a\\xa0few\\xa0languages.\\xa0\\nSome\\xa0agent\\xa0operating\\xa0systems\\xa0(or\\xa0types\\xa0of\\xa0agent\\xa0servers)\\xa0are\\xa0Ara\\xa0[RP97],\\xa0Tacoma\\xa0[JRS94],\\xa0\\nand\\xa0the\\xa0Knowbot\\xa0Operating\\xa0System\\xa0[Hyl96].\\xa0\\xa0Agent\\xa0Tcl\\xa0and\\xa0Telescript\\xa0each\\xa0have\\xa0their\\xa0own\\xa0\\nagent\\xa0operating\\xa0systems.\\xa0\\xa0The\\xa0many\\xa0different\\xa0Java\\xadbased\\xa0agent\\xa0systems\\xa0also\\xa0each\\xa0require\\xa0\\nspecial\\xa0agent\\xa0server.\\xa0\\nThis\\xa0thesis\\xa0is\\xa0concerned\\xa0with\\xa0programming\\xa0languages\\xa0for\\xa0writing\\xa0mobile\\xa0agents\\xa0rather\\xa0than\\xa0the\\xa0\\noperating\\xa0systems\\xa0they\\xa0execute\\xa0under.\\xa0The\\xa0implementation\\xa0of\\xa0agent\\xa0servers\\xa0is\\xa0only\\xa0discussed\\xa0if\\xa0\\nit\\xa0directly\\xa0affects\\xa0the\\xa0programs\\xa0that\\xa0can\\xa0be\\xa0implemented.\\xa0\\n\\xa0\\xa0\\n3.\\xa0Languages\\xa0Used\\xa0to\\xa0Write\\xa0Mobile\\xa0Agents\\xa0\\nIn\\xa0theory\\xa0any\\xa0language\\xa0can\\xa0be\\xa0used\\xa0to\\xa0implement\\xa0mobile\\xa0agents.\\xa0\\xa0The\\xa0only\\xa0necessary\\xa0\\nrequirement\\xa0is\\xa0that\\xa0the\\xa0language\\xa0is\\xa0supported\\xa0by\\xa0an\\xa0execution\\xa0environment\\xa0on\\xa0the\\xa0host.\\xa0\\xa0A\\xa0wide\\xa0\\nvariety\\xa0of\\xa0languages\\xa0have\\xa0been\\xa0used\\xa0to\\xa0write\\xa0mobile\\xa0agents,\\xa0some\\xa0in\\xa0research\\xa0systems,\\xa0some\\xa0\\nin\\xa0prototype\\xa0commercial\\xa0systems.\\xa0\\xa0Some\\xa0languages\\xa0such\\xa0as\\xa0Obliq\\xa0and\\xa0Telescript\\xa0have\\xa0been\\xa0\\nspecifically\\xa0designed\\xa0for\\xa0writing\\xa0mobile\\xa0agents.\\xa0\\xa0There\\xa0are\\xa0also\\xa0many\\xa0mobile\\xa0agents\\xa0being\\xa0\\nwritten\\xa0in\\xa0general\\xa0purpose\\xa0languages\\xa0extended\\xa0with\\xa0a\\xa0special\\xa0library.\\xa0\\xa0Below\\xa0is\\xa0a\\xa0brief\\xa0\\ndescription\\xa0of\\xa0some\\xa0of\\xa0the\\xa0languages\\xa0that\\xa0have\\xa0been\\xa0used\\xa0to\\xa0write\\xa0mobile\\xa0agents.\\xa0\\nTelescript\\u200b\\n\\xa0\\xad\\xa0A\\xa0proprietary\\xa0system\\xa0developed\\xa0by\\xa0General\\xa0Magic.\\xa0[Whi96]\\xa0\\xa0The\\xa0Telescript\\xa0\\nlanguage\\xa0has\\xa0been\\xa0specifically\\xa0designed\\xa0for\\xa0implementing\\xa0mobile\\xa0agent\\xa0systems.\\xa0\\xa0Telescript\\xa0\\nwas\\xa0designed\\xa0with\\xa0the\\xa0vision\\xa0for\\xa0the\\xa0computer\\xa0network\\xa0become\\xa0a\\xa0programmable\\xa0platform.\\xa0\\nGeneral\\xa0Magic\\'s\\xa0ambition\\xa0was\\xa0for\\xa0Telescript\\xa0to\\xa0become\\xa0for\\xa0communications\\xa0what\\xa0Postscript\\xa0is\\xa0\\nfor\\xa0printing.\\xa0\\xa0Contrary\\xa0to\\xa0the\\xa0name,\\xa0Telescript\\xa0is\\xa0not\\xa0a\\xa0scripting\\xa0language.\\xa0\\xa0It\\xa0is\\xa0a\\xa0complete\\xa0object\\xa0\\noriented\\xa0language.\\xa0\\xa0Telescript\\xa0supports\\xa0objects,\\xa0classes\\xa0and\\xa0inheritance.\\xa0\\xa0The\\xa0object\\xa0oriented\\xa0\\nmodel\\xa0and\\xa0the\\xa0syntax\\xa0is\\xa0in\\xa0many\\xa0way\\xa0similar\\xa0to\\xa0that\\xa0of\\xa0C++.\\xa0\\xa0Telescript\\xa0has\\xa0a\\xa0library\\xa0of\\xa0built\\xadin\\xa0\\nclasses\\xa0for\\xa0writing\\xa0mobile\\xa0agents.\\xa0\\xa0There\\xa0are\\xa0special\\xa0classes\\xa0for\\xa0\\u200b\\nagents\\u200b\\n\\xa0and\\xa0\\u200b\\nlocations\\u200b\\n.\\xa0\\xa0Agents\\xa0\\nare\\xa0a\\xa0base\\xa0class\\xa0for\\xa0mobile\\xa0agents.\\xa0\\xa0Locations\\xa0are\\xa0objects\\xa0that\\xa0represent\\xa0sites.\\xa0\\xa0The\\xa0Telescript\\xa0\\nlanguage\\xa0has\\xa0a\\xa0set\\xa0of\\xa0built\\xadin\\xa0commands\\xa0for\\xa0agent\\xa0migration\\xa0and\\xa0inter\\xa0agent\\xa0communication.\\xa0\\nThe\\xa0Telescript\\xa0system\\xa0includes\\xa0notions\\xa0of\\xa0which\\xa0authority\\xa0the\\xa0agent\\xa0is\\xa0representing.\\xa0\\xa0\\xa0Telescript\\xa0\\nprograms\\xa0are\\xa0compiled\\xa0into\\xa0a\\xa0portable\\xa0intermediate\\xa0representation,\\xa0called\\xa0\\u200b\\nlow\\xa0Telescript\\u200b\\n,\\xa0\\nanalogous\\xa0to\\xa0Java\\xa0byte\\xa0code.\\xa0\\xa0Telescript\\xa0programs\\xa0can\\xa0run\\xa0on\\xa0any\\xa0computer\\xa0with\\xa0a\\xa0Telescript\\xa0\\nexecution\\xa0engine.\\xa0\\xa0The\\xa0Telescript\\xa0execution\\xa0engine\\xa0was\\xa0designed\\xa0to\\xa0be\\xa0able\\xa0to\\xa0run\\xa0on\\xa0even\\xa0\\nsmall\\xa0communication\\xa0devices.\\xa0\\xa0The\\xa0Telescript\\xa0language\\xa0has\\xa0had\\xa0a\\xa0great\\xa0influence\\xa0on\\xa0the\\xa0\\ndevelopment\\xa0of\\xa0mobile\\xa0agents,\\xa0and\\xa0mobile\\xa0agent\\xa0languages.\\xa0\\xa0It\\xa0was\\xa0General\\xa0Magic\\xa0who\\xa0first\\xa0\\ncoined\\xa0the\\xa0term\\xa0\\u200b\\nmobile\\xa0agent\\u200b\\n.\\xa0\\nJava\\u200b\\n\\xa0\\xad\\xa0Java\\xa0is\\xa0a\\xa0general\\xa0purpose\\xa0language.\\xa0\\xa0Despite\\xa0its\\xa0relatively\\xa0young\\xa0age,\\xa0it\\xa0is\\xa0already\\xa0\\nestablishing\\xa0itself\\xa0as\\xa0the\\xa0de\\xa0facto\\xa0standard\\xa0for\\xa0developing\\xa0internet\\xa0and\\xa0intranet\\xa0applications.\\xa0\\nJava\\xa0is\\xa0an\\xa0object\\xa0oriented\\xa0language.\\xa0\\xa0It\\xa0uses\\xa0the\\xa0classes\\xa0\\xa0object\\xa0oriented\\xa0model.\\xa0\\xa0Its\\xa0syntax\\xa0is\\xa0\\nsimilar\\xa0to\\xa0that\\xa0of\\xa0C\\xa0and\\xa0C++.\\xa0While\\xa0Java\\xa0was\\xa0not\\xa0specifically\\xa0designed\\xa0for\\xa0writing\\xa0mobile\\xa0agents,\\xa0\\nit\\xa0has\\xa0most\\xa0of\\xa0the\\xa0necessary\\xa0capabilities\\xa0for\\xa0mobile\\xa0agent\\xa0programming.\\xa0\\xa0Java\\xa0is\\xa0multi\\xadthreaded.\\xa0\\nJava\\xa0programs\\xa0are\\xa0compiled\\xa0to\\xa0Java\\xa0byte\\xa0codes,\\xa0binary\\xa0instructions\\xa0for\\xa0the\\xa0Java\\xa0Virtual\\xa0\\nMachine.\\xa0\\xa0Java\\xa0programs\\xa0are\\xa0able\\xa0to\\xa0run\\xa0on\\xa0any\\xa0platform\\xa0with\\xa0a\\xa0Java\\xa0Virtual\\xa0Machine\\xa0\\ninterpreter.\\xa0\\xa0This\\xa0makes\\xa0Java\\xa0programs\\xa0highly\\xa0portable.\\xa0\\xa0The\\xa0Java\\xa0libraries\\xa0have\\xa0good\\xa0support\\xa0\\nfor\\xa0communication\\xa0procedures.\\xa0\\xa0Java\\xa0has\\xa0been\\xa0used\\xa0as\\xa0the\\xa0basis\\xa0for\\xa0many\\xa0implementations\\xa0of\\xa0\\nmobile\\xa0agent\\xa0systems.\\xa0\\xa0Nearly\\xa0all\\xa0of\\xa0the\\xa0systems\\xa0make\\xa0use\\xa0of\\xa0Java\\xa01.1\\'s\\xa0RMI\\xa0(Remote\\xa0Method\\xa0\\nInvocation).\\xa0\\xa0\\xa0Some\\xa0systems\\xa0of\\xa0note\\xa0include:\\xa0\\n●\\nIBM\\'s\\xa0\\u200b\\nAglets\\u200b\\n\\xa0\\xad\\xa0under\\xa0development\\xa0by\\xa0IBM\\xa0Research\\xa0Centre,\\xa0Japan.\\xa0\\xa0An\\xa0\\u200b\\naglet\\u200b\\n\\xa0is\\xa0a\\xa0\\nmobile\\xa0agent.\\xa0\\xa0All\\xa0aglets\\xa0are\\xa0derived\\xa0from\\xa0an\\xa0abstract\\xa0class\\xa0called\\xa0Aglet.\\xa0\\xa0Aglets\\xa0uses\\xa0an\\xa0\\nevent\\xa0driven\\xa0approach\\xa0to\\xa0mobile\\xa0agents,\\xa0that\\xa0is\\xa0analogous\\xa0to\\xa0the\\xa0Java\\xa0library\\xa0Applet\\xa0\\nclass.\\xa0[KZ97]\\xa0\\xa0Each\\xa0aglet\\xa0implements\\xa0a\\xa0set\\xa0of\\xa0event\\xa0handler\\xa0methods\\xa0that\\xa0define\\xa0the\\xa0\\naglets\\xa0behaviour.\\xa0\\xa0Some\\xa0of\\xa0these\\xa0methods\\xa0are:\\xa0\\n○\\nOnCreation()\\xa0\\xad\\xad\\xa0called\\xa0when\\xa0a\\xa0new\\xa0aglet\\xa0is\\xa0created.\\xa0\\n○\\nOnDispatch()\\xa0\\xad\\xad\\xa0called\\xa0when\\xa0an\\xa0aglet\\xa0receives\\xa0a\\xa0request\\xa0to\\xa0migrate.\\xa0\\n○\\nOnReverting()\\xa0\\xad\\xad\\xa0called\\xa0when\\xa0the\\xa0aglet\\xa0receives\\xa0a\\xa0request\\xa0from\\xa0its\\xa0owner\\xa0to\\xa0come\\xa0\\nhome.\\xa0\\n○\\nOnArrival()\\xa0\\xad\\xad\\xa0called\\xa0after\\xa0an\\xa0aglet\\xa0is\\xa0dispatched\\xa0\\n●\\nGeneral\\xa0Magic\\'s\\xa0\\u200b\\nOdyssey\\u200b\\n\\xa0\\xad\\xa0A\\xa0mobile\\xa0agent\\xa0system\\xa0under\\xa0development\\xa0by\\xa0General\\xa0\\nMagic,\\xa0that\\xa0attempts\\xa0to\\xa0achieve\\xa0the\\xa0functionality\\xa0of\\xa0Telescript,\\xa0using\\xa0Java.\\xa0\\n●\\nObjectSpace\\'s\\xa0\\u200b\\nVoyager\\u200b\\n\\xa0\\xad\\xa0The\\xa0Voyager\\xa0system\\'s\\xa0model\\xa0of\\xa0mobile\\xa0computing\\xa0is\\xa0very\\xa0\\nsimilar\\xa0to\\xa0that\\xa0of\\xa0Obliq.\\xa0\\xa0The\\xa0system\\xa0provides\\xa0a\\xa0mechanism\\xa0for\\xa0converting\\xa0objects\\xa0into\\xa0a\\xa0\\ndistributed\\xa0objects.\\xa0\\xa0This\\xa0allows\\xa0objects\\xa0at\\xa0remote\\xa0sites\\xa0to\\xa0be\\xa0semantically\\xa0treated\\xa0in\\xa0the\\xa0\\nsame\\xa0way\\xa0as\\xa0objects\\xa0at\\xa0the\\xa0local\\xa0site.\\xa0\\xa0Objects\\xa0can\\xa0be\\xa0easily\\xa0copied\\xa0between\\xa0remote\\xa0\\nsites.\\xa0[KZ97]\\xa0\\nObliq\\u200b\\n\\xa0\\xad\\xa0Obliq\\xa0is\\xa0an\\xa0experimental\\xa0language\\xa0under\\xa0development\\xa0by\\xa0Digital\\xa0Equipment\\xa0\\nCorporation\\'s\\xa0Systems\\xa0Research\\xa0Center.\\xa0\\xa0Obliq\\xa0is\\xa0a\\xa0lexically\\xa0scoped,\\xa0object\\xadbased,\\xa0interpreted\\xa0\\nlanguage\\xa0that\\xa0supports\\xa0distributed\\xa0computation.\\xa0The\\xa0language\\xa0supports\\xa0objects,\\xa0but\\xa0not\\xa0classes.\\xa0\\nIt\\xa0uses\\xa0the\\xa0prototype\\xadbased\\xa0model\\xa0[Bor86]\\xa0of\\xa0object\\xadoriented\\xa0programming.\\xa0\\xa0New\\xa0objects\\xa0can\\xa0be\\xa0\\ncreated\\xa0directly,\\xa0or\\xa0cloned\\xa0from\\xa0other\\xa0objects.\\xa0Obliq\\xa0uses\\xa0runtime\\xa0type\\xa0checking.\\xa0Obliq\\xa0has\\xa0\\nbuilt\\xadin\\xa0procedures\\xa0for\\xa0importing\\xa0and\\xa0exporting\\xa0procedures\\xa0and\\xa0objects\\xa0between\\xa0machines.\\xa0\\nObliq\\xa0adheres\\xa0to\\xa0lexical\\xa0scoping\\xa0in\\xa0a\\xa0distributed\\xa0context.\\xa0When\\xa0procedures\\xa0and\\xa0objects\\xa0are\\xa0\\ndispatched\\xa0to\\xa0a\\xa0remote\\xa0site\\xa0for\\xa0execution,\\xa0any\\xa0references\\xa0they\\xa0contain\\xa0point\\xa0to\\xa0the\\xa0same\\xa0objects\\xa0\\nas\\xa0on\\xa0the\\xa0machine\\xa0from\\xa0which\\xa0they\\xa0were\\xa0dispatched.\\xa0[Car95]\\xa0[BC96]\\xa0\\nThe\\xa0Obliq\\xa0distributed\\xa0semantics\\xa0is\\xa0based\\xa0on\\xa0the\\xa0notions\\xa0of\\xa0\\u200b\\nsites\\u200b\\n,\\xa0\\u200b\\nlocations\\u200b\\n,\\xa0\\u200b\\nvalues\\xa0\\u200b\\nand\\xa0\\u200b\\nthreads\\u200b\\n.\\xa0\\nA\\xa0site\\xa0is\\xa0a\\xa0computer\\xa0on\\xa0the\\xa0network.\\xa0A\\xa0location\\xa0is\\xa0a\\xa0memory\\xa0address\\xa0on\\xa0a\\xa0site\\xa0that\\xa0stores\\xa0a\\xa0\\nvalue.\\xa0A\\xa0value\\xa0can\\xa0be\\xa0of\\xa0a\\xa0basic\\xa0type\\xa0or\\xa0an\\xa0object.\\xa0Threads\\xa0are\\xa0virtual\\xa0sequential\\xa0instruction\\xa0\\nprocessors.\\xa0Threads\\xa0may\\xa0be\\xa0executed\\xa0concurrently\\xa0on\\xa0the\\xa0same\\xa0site\\xa0or\\xa0at\\xa0different\\xa0sites.\\xa0Values\\xa0\\nmay\\xa0be\\xa0transmitted\\xa0over\\xa0the\\xa0network.\\xa0When\\xa0an\\xa0object\\xa0is\\xa0transmitted,\\xa0basic\\xa0values\\xa0are\\xa0copied\\xa0\\nexactly.\\xa0Locations\\xa0that\\xa0the\\xa0object\\xa0contains\\xa0are\\xa0copied,\\xa0such\\xa0that\\xa0they\\xa0point\\xa0to\\xa0the\\xa0same\\xa0address\\xa0\\non\\xa0the\\xa0same\\xa0site,\\xa0at\\xa0the\\xa0destination\\xa0site\\xa0as\\xa0they\\xa0did\\xa0at\\xa0the\\xa0original\\xa0site.\\xa0\\nObliq\\'s\\xa0semantics\\xa0of\\xa0network\\xa0computing\\xa0is\\xa0fundamentally\\xa0different\\xa0to\\xa0the\\xa0other\\xa0languages\\xa0\\nconsidered.\\xa0\\xa0Where\\xa0as\\xa0other\\xa0languages\\xa0see\\xa0each\\xa0computer\\xa0as\\xa0independent\\xa0worlds\\xa0that\\xa0can\\xa0\\ncommunicate\\xa0with\\xa0each\\xa0other\\xa0through\\xa0the\\xa0network,\\xa0Obliq\\xa0treats\\xa0the\\xa0network\\xa0as\\xa0a\\xa0single\\xa0\\ncomputer\\xa0with\\xa0sites\\xa0as\\xa0components.\\xa0\\nAgent\\xa0Tcl\\u200b\\n\\xa0\\xad\\xa0Agent\\xa0Tcl\\xa0[Gra95b]\\xa0is\\xa0a\\xa0mobile\\xa0agent\\xa0system\\xa0being\\xa0developed\\xa0by\\xa0Dartmouth\\xa0\\nCollege.\\xa0\\xa0The\\xa0Agent\\xa0Tcl\\xa0language\\xa0is\\xa0an\\xa0extension\\xa0of\\xa0the\\xa0Tool\\xa0Command\\xa0Language\\xa0(Tcl),\\xa0the\\xa0\\nlanguage\\xa0originally\\xa0developed\\xa0by\\xa0Dr.\\xa0John\\xa0Ousterhout.\\xa0\\xa0The\\xa0Agent\\xa0Tcl\\xa0extensions\\xa0add\\xa0\\ncommands\\xa0for\\xa0agent\\xa0migration\\xa0and\\xa0message\\xa0passing.\\xa0The\\xa0extra\\xa0commands\\xa0give\\xa0Agent\\xa0Tcl\\xa0\\nscripts\\xa0similar\\xa0mobility\\xa0capabilities\\xa0to\\xa0Telescript.\\xa0\\xa0Agent\\xa0Tcl\\xa0uses\\xa0a\\xa0modified\\xa0Safe\\xa0Tcl\\xa0[OLW96]\\xa0\\ninterpreter\\xa0to\\xa0execute\\xa0scripts.\\xa0\\nPerl\\xa05\\u200b\\n\\xa0\\xad\\xa0Penguin\\xa0is\\xa0a\\xa0Perl\\xa05\\xa0module\\xa0with\\xa0functions\\xa0enabling\\xa0the\\xa0sending\\xa0of\\xa0Perl\\xa0scripts\\xa0to\\xa0a\\xa0\\nremote\\xa0machine\\xa0for\\xa0execution\\xa0and\\xa0for\\xa0receiving\\xa0perl\\xa0scripts\\xa0from\\xa0remote\\xa0machines\\xa0for\\xa0execution.\\xa0\\nThe\\xa0scripts\\xa0are\\xa0digitally\\xa0signed\\xa0to\\xa0allow\\xa0authentication\\xa0and\\xa0are\\xa0executed\\xa0in\\xa0a\\xa0secure\\xa0\\nenvironment.\\xa0\\xa0Mobile\\xa0agents\\xa0written\\xa0in\\xa0Perl\\xa0are\\xa0restricted\\xa0in\\xa0that\\xa0they\\xa0must\\xa0always\\xa0restart\\xa0\\nexecution\\xa0at\\xa0the\\xa0same\\xa0point.\\xa0\\xa0There\\xa0is\\xa0also\\xa0no\\xa0support\\xa0for\\xa0agents\\xa0saving\\xa0their\\xa0state\\xa0on\\xa0migration.\\xa0\\nA\\xa0new\\xa0Agent\\xa0Module\\xa0v3.0\\xa0is\\xa0being\\xa0created\\xa0to\\xa0give\\xa0Perl\\xa05\\xa0more\\xa0sophisticated\\xa0mobile\\xa0agent\\xa0\\ncapabilities.\\xa0\\xa0The\\xa0extra\\xa0features\\xa0include\\xa0giving\\xa0agents\\xa0the\\xa0ability\\xa0to\\xa0save\\xa0their\\xa0state\\xa0on\\xa0migration.\\xa0\\nPython\\u200b\\n\\xa0\\xad\\xa0Python\\xa0is\\xa0an\\xa0object\\xadoriented\\xa0scripting\\xa0language.\\xa0\\xa0The\\xa0Corporation\\xa0for\\xa0National\\xa0\\nResearch\\xa0Institution,\\xa0uses\\xa0Python\\xa0as\\xa0a\\xa0language\\xa0for\\xa0implementing\\xa0Knowbot\\xa0programs.\\xa0[Hyl96]\\xa0\\nThis\\xa0is\\xa0by\\xa0no\\xa0means\\xa0a\\xa0complete\\xa0list\\xa0of\\xa0the\\xa0languages\\xa0being\\xa0used\\xa0for\\xa0mobile\\xa0agents.\\xa0\\xa0For\\xa0a\\xa0more\\xa0\\ncomplete\\xa0list,\\xa0the\\xa0reader\\xa0is\\xa0referred\\xa0to\\xa0Kiniry\\xa0and\\xa0Zimmerman\\xa0[KZ97].\\xa0\\nThe\\xa0languages\\xa0that\\xa0will\\xa0be\\xa0mainly\\xa0considered\\xa0in\\xa0the\\xa0following\\xa0discussions\\xa0are\\xa0Telescript,\\xa0Java,\\xa0\\nAgent\\xa0Tcl\\xa0and\\xa0Obliq.\\xa0Collectively,\\xa0these\\xa0languages\\xa0represent\\xa0most\\xa0of\\xa0the\\xa0approaches\\xa0presently\\xa0\\ntaken\\xa0to\\xa0languages\\xa0for\\xa0mobile\\xa0agents.\\xa0\\xa0Aglets\\xa0will\\xa0be\\xa0most\\xa0referred\\xa0to\\xa0of\\xa0\\xa0the\\xa0Java\\xa0libraries.\\xa0\\xa0The\\xa0\\nreason\\xa0for\\xa0this\\xa0is\\xa0the\\xa0techniques\\xa0associated\\xa0with\\xa0the\\xa0other\\xa0two\\xa0Java\\xa0libraries\\xa0mentioned\\xa0are\\xa0\\nrepresented\\xa0by\\xa0Telescript\\xa0and\\xa0Obliq.\\xa0\\n4.\\xa0Characteristics\\xa0of\\xa0Languages\\xa0for\\xa0Mobile\\xa0Agents\\xa0\\nAny\\xa0language\\xa0used\\xa0to\\xa0write\\xa0a\\xa0mobile\\xa0agent\\xa0must\\xa0be\\xa0able\\xa0to\\xa0support\\xa0the\\xa0following:\\xa0\\n●\\nagent\\xa0migration,\\xa0\\n●\\ncommunication\\xa0between\\xa0agents,\\xa0\\n●\\naccess\\xa0to\\xa0server\\xa0resources,\\xa0\\n●\\nsecurity\\xa0mechanisms,\\xa0\\n●\\nappropriate\\xa0efficiency\\xa0\\n●\\nthe\\xa0ability\\xa0to\\xa0run\\xa0on\\xa0multiple\\xa0platforms\\xa0\\n●\\nease\\xa0of\\xa0programming\\xa0for\\xa0writing\\xa0mobile\\xa0agent\\xa0application.\\xa0\\nHow\\xa0well\\xa0the\\xa0language\\xa0is\\xa0able\\xa0to\\xa0support\\xa0these\\xa0stipulates\\xa0the\\xa0usefulness\\xa0of\\xa0the\\xa0language\\xa0for\\xa0\\nwriting\\xa0mobile\\xa0agent\\xa0applications.\\xa0\\n4.1\\xa0Migration\\xa0\\nThe\\xa0agent\\xa0language\\xa0must\\xa0be\\xa0able\\xa0to\\xa0support\\xa0an\\xa0agent\\xa0migrating.\\xa0\\xa0Ideally,\\xa0it\\xa0should\\xa0be\\xa0possible\\xa0\\nto\\xa0suspend\\xa0an\\xa0agent\\'s\\xa0execution\\xa0at\\xa0any\\xa0point,\\xa0save\\xa0the\\xa0state,\\xa0including\\xa0the\\xa0heap,\\xa0the\\xa0stack\\xa0and\\xa0\\neven\\xa0the\\xa0registers,\\xa0move\\xa0the\\xa0agent\\xa0to\\xa0another\\xa0computer,\\xa0and\\xa0restart\\xa0execution,\\xa0with\\xa0the\\xa0agents\\xa0\\nexecution\\xa0state\\xa0exactly\\xa0restored.\\xa0\\nTelescript\\xa0has\\xa0built\\xadin\\xa0support\\xa0for\\xa0agent\\xa0migration.\\xa0\\xa0Agents\\xa0may\\xa0move\\xa0to\\xa0any\\xa0location\\xa0with\\xa0the\\xa0go\\xa0\\nstatement.\\xa0\\xa0\\xa0Upon\\xa0the\\xa0execution\\xa0of\\xa0this\\xa0command,\\xa0the\\xa0agent\\xa0is\\xa0transported\\xa0to\\xa0the\\xa0target\\xa0site,\\xa0\\nwhere\\xa0it\\xa0continues\\xa0execution\\xa0from\\xa0the\\xa0line\\xa0after\\xa0the\\xa0go\\xa0statement.\\xa0\\xa0All\\xa0the\\xa0agents\\xa0properties\\xa0and\\xa0\\nthe\\xa0program\\xa0execution\\xa0state,\\xa0including\\xa0those\\xa0of\\xa0local\\xa0variables\\xa0in\\xa0methods\\xa0and\\xa0the\\xa0program\\xa0\\ncounter,\\xa0are\\xa0restored\\xa0exactly.\\xa0\\xa0The\\xa0agent\\xa0migration\\xa0is\\xa0process\\xa0is\\xa0handled\\xa0completely\\xa0by\\xa0the\\xa0\\nTelescript\\xa0operating\\xa0system.\\xa0\\xa0The\\xa0programmer\\xa0does\\xa0not\\xa0need\\xa0to\\xa0worry\\xa0about\\xa0saving\\xa0the\\xa0relevant\\xa0\\nstate\\xa0information\\xa0just\\xa0before\\xa0migration.\\xa0[Whi96]\\xa0\\nAgent\\xa0Tcl\\xa0uses\\xa0a\\xa0similar\\xa0migration\\xa0model\\xa0to\\xa0that\\xa0of\\xa0\\xa0Telescript.\\xa0\\xa0The\\xa0built\\xadin\\xa0statement\\xa0for\\xa0agent\\xa0\\nmigration\\xa0is\\xa0called\\xa0agent_jump.\\xa0\\xa0As\\xa0with\\xa0the\\xa0Telescript\\xa0go,\\xa0when\\xa0this\\xa0statement\\xa0is\\xa0issued\\xa0the\\xa0\\nexecution\\xa0environment\\xa0handles\\xa0the\\xa0transportation\\xa0of\\xa0the\\xa0agent,\\xa0and\\xa0restores\\xa0the\\xa0agent\\xa0\\nexecution\\xa0state.\\xa0\\xa0Since\\xa0the\\xa0Tcl\\xa0language\\xa0provides\\xa0absolutely\\xa0no\\xa0support\\xa0for\\xa0capturing\\xa0program\\xa0\\nstate,\\xa0this\\xa0is\\xa0an\\xa0Agent\\xa0Tcl\\xa0extension\\xa0of\\xa0the\\xa0language.\\xa0\\nJava\\xa0was\\xa0not\\xa0specifically\\xa0designed\\xa0for\\xa0implementing\\xa0mobile\\xa0agents\\xa0so\\xa0it\\xa0does\\xa0not\\xa0have\\xa0in\\xa0built\\xadin\\xa0\\nsupport\\xa0for\\xa0migration.\\xa0\\xa0Saving\\xa0the\\xa0program\\xa0state\\xa0in\\xa0Java\\xa0is\\xa0much\\xa0more\\xa0difficult.\\xa0\\xa0Java\\'s\\xa0security\\xa0\\narchitecture\\xa0makes\\xa0it\\xa0impossible\\xa0to\\xa0directly\\xa0save\\xa0the\\xa0virtual\\xa0machine\\xa0execution\\xa0state.\\xa0\\xa0However\\xa0\\nJava\\xa01.1\\xa0supports\\xa0class\\xa0serialization.\\xa0\\xa0Serialization\\xa0allows\\xa0an\\xa0entire\\xa0class\\xa0instance\\xa0to\\xa0be\\xa0written\\xa0\\nto\\xa0file,\\xa0including\\xa0the\\xa0object\\'s\\xa0methods,\\xa0attributes\\xa0and\\xa0their\\xa0values.\\xa0\\xa0Serialization\\xa0will\\xa0not\\xa0save\\xa0the\\xa0\\nprogram\\xa0stack,\\xa0that\\xa0is,\\xa0the\\xa0values\\xa0of\\xa0local\\xa0variables\\xa0in\\xa0methods.\\xa0\\xa0The\\xa0Java\\xa0virtual\\xa0machine\\xa0does\\xa0\\nnot\\xa0allow\\xa0the\\xa0explicit\\xa0referencing\\xa0of\\xa0the\\xa0stack,\\xa0for\\xa0security\\xa0reasons.\\xa0\\xa0Workarounds\\xa0have\\xa0been\\xa0\\ndeveloped\\xa0for\\xa0saving\\xa0the\\xa0program\\xa0stack\\xa0state.\\xa0\\xa0In\\xa0Aglets,\\xa0each\\xa0aglet\\xa0implements\\xa0a\\xa0method\\xa0\\ncalled\\xa0onDispatch().\\xa0\\xa0This\\xa0method\\xa0is\\xa0called\\xa0when\\xa0an\\xa0aglet\\xa0receives\\xa0a\\xa0request\\xa0to\\xa0migrate.\\xa0\\xa0The\\xa0\\nrequest\\xa0may\\xa0have\\xa0come\\xa0from\\xa0the\\xa0aglet\\xa0itself\\xa0or\\xa0from\\xa0another\\xa0process.\\xa0\\xa0In\\xa0this\\xa0method,\\xa0the\\xa0\\nprogrammer\\xa0must\\xa0define\\xa0a\\xa0procedure\\xa0for\\xa0placing\\xa0everything\\xa0an\\xa0aglet\\xa0needs\\xa0to\\xa0restore\\xa0its\\xa0state\\xa0\\non\\xa0the\\xa0heap.\\xa0\\xa0The\\xa0aglet\\xa0is\\xa0then\\xa0serialized\\xa0and\\xa0transported\\xa0to\\xa0its\\xa0destination.\\xa0[Ven97a]\\xa0\\nThere\\xa0are\\xa0advantages\\xa0to\\xa0Telescript\\xa0and\\xa0Agent\\xa0Tcl\\'s\\xa0built\\xadin\\xa0support\\xa0for\\xa0agent\\xa0migration.\\xa0\\xa0In\\xa0\\nTelescript\\xa0it\\xa0is\\xa0possible\\xa0to\\xa0migrate\\xa0from\\xa0any\\xa0point\\xa0in\\xa0the\\xa0program,\\xa0including\\xa0in\\xa0the\\xa0middle\\xa0of\\xa0\\nmethod\\xa0calls.\\xa0\\xa0In\\xa0Java\\xa0the\\xa0agent\\xa0program\\xa0must\\xa0be\\xa0structured\\xa0so\\xa0that\\xa0everything\\xa0needed\\xa0to\\xa0\\nrestore\\xa0execution\\xa0state\\xa0is\\xa0stored\\xa0in\\xa0the\\xa0heap,\\xa0before\\xa0migration.\\xa0\\xa0It\\xa0is\\xa0left\\xa0to\\xa0the\\xa0programmer\\xa0to\\xa0\\nmake\\xa0sure\\xa0that\\xa0all\\xa0variables\\xa0are\\xa0correctly\\xa0saved.\\xa0\\xa0In\\xa0Telescript\\xa0and\\xa0Agent\\xa0Tcl,\\xa0the\\xa0\\nimplementation\\xa0of\\xa0agent\\xa0migration\\xa0is\\xa0completely\\xa0hidden\\xa0from\\xa0programmer.\\xa0\\xa0This\\xa0is\\xa0a\\xa0source\\xa0of\\xa0\\nerror\\xa0that\\xa0Telescript\\xa0programmers\\xa0do\\xa0not\\xa0need\\xa0to\\xa0worry\\xa0about.\\xa0\\nObliq\\xa0takes\\xa0a\\xa0different\\xa0view\\xa0of\\xa0agent\\xa0migration.\\xa0\\xa0In\\xa0Obliq,\\xa0an\\xa0agent\\xa0can\\xa0be\\xa0written\\xa0as\\xa0a\\xa0procedure\\xa0\\nthat\\xa0takes\\xa0a\\xa0state\\xa0object\\xa0as\\xa0an\\xa0argument.\\xa0\\xa0A\\xa0site\\xa0can\\xa0make\\xa0its\\xa0execution\\xa0engine\\xa0available\\xa0for\\xa0\\nthreads\\xa0at\\xa0other\\xa0sites\\xa0to\\xa0use.\\xa0\\xa0A\\xa0procedure\\xa0can\\xa0be\\xa0executed\\xa0at\\xa0a\\xa0remote\\xa0site,\\xa0by\\xa0passing\\xa0the\\xa0\\nname\\xa0of\\xa0the\\xa0procedure\\xa0as\\xa0a\\xa0parameter\\xa0to\\xa0the\\xa0execution\\xa0engine.\\xa0\\xa0The\\xa0following\\xa0code\\xa0fragment\\xa0\\nshows\\xa0how\\xa0an\\xa0agent\\xa0can\\xa0be\\xa0sent\\xa0to\\xa0another\\xa0site\\xa0for\\xa0execution.\\xa0[Car95]\\xa0\\nlet\\xa0state\\xa0=\\xa0{\\xa0...\\xa0};\\xa0\\xa0\\xa0\\xa0\\xa0\\xa0\\xa0\\xa0\\xa0\\xa0\\xa0\\xa0\\xa0\\xa0\\xa0\\xa0\\xa0\\xa0\\xa0\\xa0\\xa0\\xa0\\xa0\\xa0\\xa0\\xa0\\xa0\\xa0\\xa0\\u200b\\n(define\\xa0agent\\xa0state)\\xa0\\nlet\\xa0agent\\xa0=\\xa0proc(state,\\xa0arg)\\xa0...\\xa0end;\\xa0\\xa0\\xa0\\xa0\\xa0\\xa0\\xa0\\xa0\\xa0\\xa0\\xa0\\xa0\\u200b\\n(define\\xa0agent\\xa0procedure)\\xa0\\n(get\\xa0a\\xa0handle\\xa0to\\xa0remote\\xa0site\\xa0execution\\xa0engine)\\xa0\\nlet\\xa0remoteSite\\xa0=\\xa0net_import(\"RemoteServer\",\\xa0Namer);\\xa0\\n(Execute\\xa0the\\xa0agent\\xa0at\\xa0the\\xa0remote\\xa0site.)\\xa0\\nremoteSite(proc\\xa0(arg)\\xa0agent(copy(state),\\xa0arg)\\xa0end)\\xa0\\n\\xa0\\xa0\\n4.2\\xa0Agent\\xa0communication\\xa0\\nThe\\xa0agent\\xa0language\\xa0must\\xa0allow\\xa0agents\\xa0to\\xa0communicate\\xa0with\\xa0each\\xa0other.\\xa0\\nIn\\xa0Telescript\\xa0agents\\xa0communicate\\xa0by\\xa0holding\\xa0meetings.\\xa0\\xa0An\\xa0agent\\xa0can\\xa0request\\xa0a\\xa0meeting\\xa0with\\xa0\\nanother\\xa0agent\\xa0at\\xa0the\\xa0same\\xa0place,\\xa0that\\xa0is\\xa0the\\xa0same\\xa0execution\\xa0environment.\\xa0\\xa0\\xa0The\\xa0Telescript\\xa0\\nsystem\\xa0passes\\xa0the\\xa0meeting\\xa0request\\xa0to\\xa0the\\xa0relevant\\xa0agent.\\xa0\\xa0Every\\xa0Telescript\\xa0agent\\xa0must\\xa0\\nimplement\\xa0the\\xa0operation\\xa0meeting.\\xa0\\xa0This\\xa0is\\xa0called\\xa0when\\xa0an\\xa0agent\\xa0receives\\xa0an\\xa0invitation\\xa0to\\xa0hold\\xa0a\\xa0\\nmeeting.\\xa0\\xa0The\\xa0implementation\\xa0of\\xa0the\\xa0meeting\\xa0method\\xa0contains\\xa0the\\xa0agents\\xa0negotiating\\xa0strategies,\\xa0\\nwhich\\xa0may\\xa0include\\xa0rejecting\\xa0holding\\xa0a\\xa0meeting\\xa0under\\xa0certain\\xa0conditions\\xa0or\\xa0with\\xa0certain\\xa0types\\xa0of\\xa0\\nagents.\\xa0[Whi96]\\xa0\\nAgent\\xa0Tcl\\xa0provides\\xa0extensions\\xa0to\\xa0the\\xa0Tcl\\xa0language\\xa0for\\xa0agent\\xa0communication.\\xa0\\xa0These\\xa0extensions\\xa0\\nallow\\xa0agents\\xa0to\\xa0communicate\\xa0through\\xa0either\\xa0asynchronous\\xa0message\\xa0passing,\\xa0or\\xa0through\\xa0remote\\xa0\\nprocedure\\xa0calls.\\xa0[Kot97]\\xa0\\nJava\\xa0has\\xa0no\\xa0built\\xa0in\\xa0support\\xa0for\\xa0agent\\xa0communication.\\xa0\\xa0In\\xa0Aglets,\\xa0each\\xa0Java\\xa0agent\\xa0has\\xa0a\\xa0proxy\\xa0\\nobject.\\xa0\\xa0Communication\\xa0from\\xa0one\\xa0agent\\xa0to\\xa0another\\xa0happens\\xa0through\\xa0the\\xa0proxy.\\xa0\\xa0This\\xa0is\\xa0to\\xa0\\nprotect\\xa0the\\xa0agent\\xa0objects\\xa0from\\xa0being\\xa0directly\\xa0modified.\\xa0The\\xa0proxy\\xa0object\\xa0provides\\xa0a\\xa0set\\xa0of\\xa0\\nmethods\\xa0for\\xa0communicating\\xa0to\\xa0the\\xa0represented\\xa0object.\\xa0\\xa0These\\xa0include\\xa0requests\\xa0for\\xa0aglets\\xa0to\\xa0take\\xa0\\nactions,\\xa0such\\xa0as\\xa0migration,\\xa0cloning,\\xa0destroying\\xa0and\\xa0suspending.\\xa0There\\xa0are\\xa0also\\xa0two\\xa0methods\\xa0for\\xa0\\nsending\\xa0synchronous\\xa0and\\xa0asynchronous\\xa0messages\\xa0to\\xa0the\\xa0aglets.\\xa0[Ven97a]\\xa0\\n4.3\\xa0Interface\\xa0to\\xa0server\\xa0resources\\xa0\\nThe\\xa0fundamental\\xa0purpose\\xa0of\\xa0mobile\\xa0agents\\xa0is\\xa0to\\xa0get\\xa0the\\xa0program\\xa0closer\\xa0the\\xa0source\\xa0of\\xa0the\\xa0\\ninformation.\\xa0\\xa0The\\xa0agent\\xa0implementation\\xa0language\\xa0must\\xa0provide\\xa0an\\xa0easy\\xa0way\\xa0to\\xa0access\\xa0the\\xa0\\nresources\\xa0on\\xa0the\\xa0host\\xa0machine.\\xa0\\nIn\\xa0Telescript,\\xa0local\\xa0resources\\xa0are\\xa0treated\\xa0as\\xa0another\\xa0agent.\\xa0\\xa0There\\xa0is\\xa0an\\xa0agent\\xa0present\\xa0at\\xa0the\\xa0\\nserver\\xa0to\\xa0represent\\xa0the\\xa0local\\xa0resources.\\xa0This\\xa0model\\xa0provides\\xa0an\\xa0elegant\\xa0and\\xa0consistent\\xa0interface\\xa0\\nto\\xa0local\\xa0resources\\xa0at\\xa0different\\xa0computers,\\xa0but\\xa0it\\xa0requires\\xa0writing\\xa0a\\xa0Telescript\\xa0wrapper.\\xa0[Whi96]\\xa0\\nObliq\\xa0has\\xa0categories\\xa0different\\xa0types\\xa0of\\xa0services\\xa0provided\\xa0by\\xa0a\\xa0site.\\xa0\\xa0A\\xa0program\\xa0may\\xa0request\\xa0a\\xa0list\\xa0\\nof\\xa0the\\xa0services\\xa0provided\\xa0by\\xa0a\\xa0site\\xa0in\\xa0a\\xa0particular\\xa0category.\\xa0\\nAgent\\xa0Tcl\\xa0and\\xa0Aglets\\xa0use\\xa0a\\xa0similar\\xa0method\\xa0to\\xa0interacting\\xa0with\\xa0local\\xa0resources\\xa0to\\xa0Telescript.\\xa0\\xa0In\\xa0\\nAglets,\\xa0an\\xa0aglet\\xa0is\\xa0associated\\xa0with\\xa0an\\xa0AgletContext\\xa0object.\\xa0\\xa0This\\xa0object\\xa0describes\\xa0the\\xa0\\nenvironment\\xa0that\\xa0the\\xa0aglet\\xa0is\\xa0in.\\xa0\\xa0Through\\xa0the\\xa0aglet\\xa0context\\xa0object,\\xa0an\\xa0aglet\\xa0is\\xa0able\\xa0to\\xa0find\\xa0out\\xa0\\nwhat\\xa0other\\xa0aglets\\xa0are\\xa0also\\xa0in\\xa0its\\xa0current\\xa0environment.\\xa0\\xa0Like\\xa0in\\xa0Telescript,\\xa0a\\xa0stationery\\xa0aglet\\xa0is\\xa0\\nused\\xa0to\\xa0represent\\xa0the\\xa0local\\xa0computer\\'s\\xa0services.\\xa0\\n4.4\\xa0Security\\xa0\\nSecurity\\xa0is\\xa0a\\xa0critical\\xa0part\\xa0of\\xa0mobile\\xa0agent\\xa0systems.\\xa0\\xa0Karjoth,\\xa0Lange\\xa0and\\xa0Oshima\\xa0[KLO97]\\xa0identify\\xa0\\nthree\\xa0security\\xa0issues\\xa0specific\\xa0to\\xa0mobile\\xa0agent\\xa0systems.\\xa0\\xa0These\\xa0are:\\xa0\\n●\\nProtecting\\xa0the\\xa0host\\xa0from\\xa0the\\xa0mobile\\xa0agent,\\xa0\\n●\\nProtecting\\xa0the\\xa0mobile\\xa0agent\\xa0from\\xa0other\\xa0mobile\\xa0agents,\\xa0and\\xa0\\n●\\nProtecting\\xa0the\\xa0mobile\\xa0agent\\xa0from\\xa0the\\xa0host.\\xa0\\nResearchers\\xa0have\\xa0so\\xa0far\\xa0only\\xa0found\\xa0solutions\\xa0to\\xa0the\\xa0first\\xa0two\\xa0issues.\\xa0[KLO97]\\xa0[BC96]\\xa0\\nTwo\\xa0major\\xa0techniques\\xa0are\\xa0used\\xa0to\\xa0protect\\xa0the\\xa0host\\xa0computer:\\xa0\\n●\\nExecuting\\xa0agents\\xa0in\\xa0an\\xa0isolated\\xa0environment.\\xa0\\xa0Agents\\xa0cannot\\xa0directly\\xa0access\\xa0any\\xa0parts\\xa0of\\xa0\\nthe\\xa0host\\xa0system\\xa0outside\\xa0their\\xa0execution\\xa0environment.\\xa0\\xa0The\\xa0agent\\xa0system\\xa0may\\xa0grant\\xa0some\\xa0\\nagents\\xa0special\\xa0privileges\\xa0to\\xa0access\\xa0resources\\xa0outside\\xa0of\\xa0their\\xa0execution\\xa0environment.\\xa0\\n●\\nAuthenticating\\xa0the\\xa0source\\xa0of\\xa0mobile\\xa0agents,\\xa0and\\xa0granting\\xa0execution\\xa0privileges\\xa0to\\xa0agents\\xa0\\non\\xa0the\\xa0basis\\xa0of\\xa0how\\xa0trusted\\xa0their\\xa0source\\xa0is.\\xa0\\xa0Some\\xa0agents\\xa0may\\xa0be\\xa0denied\\xa0execution\\xa0\\naltogether.\\xa0\\nJava,\\xa0Agent\\xa0Tcl\\xa0and\\xa0Telescript\\xa0use\\xa0both\\xa0of\\xa0these\\xa0mechanisms\\xa0in\\xa0their\\xa0security\\xa0models.\\xa0\\nJava\\xa0programs\\xa0each\\xa0run\\xa0in\\xa0their\\xa0own\\xa0environments.\\xa0\\xa0There\\xa0are\\xa0security\\xa0mechanisms\\xa0built\\xa0into\\xa0\\nthe\\xa0Java\\xa0Virtual\\xa0Machine\\xa0instruction\\xa0set\\xa0to\\xa0prevent\\xa0programs\\xa0from\\xa0accessing\\xa0outside\\xa0of\\xa0their\\xa0\\nenvironment.\\xa0These\\xa0are:\\xa0[Ven97b]\\xa0\\n●\\nType\\xadsafe\\xa0reference\\xa0casting.\\xa0\\n●\\nStructured\\xa0memory\\xa0access.\\xa0\\n●\\nAutomatic\\xa0garbage\\xa0collection.\\xa0\\n●\\nArray\\xa0bound\\xa0checking.\\xa0\\n●\\nChecking\\xa0references\\xa0for\\xa0null.\\xa0\\nThe\\xa0effects\\xa0of\\xa0these\\xa0mechanisms\\xa0is\\xa0that\\xa0Java\\xa0programs\\xa0run\\xa0in\\xa0a\\xa0sandbox.\\xa0That\\xa0is\\xa0they\\xa0are\\xa0\\nlimited\\xa0to\\xa0the\\xa0environment\\xa0allocated\\xa0to\\xa0them\\xa0by\\xa0the\\xa0Java\\xa0Virtual\\xa0Machine,\\xa0and\\xa0the\\xa0Java\\xa0byte\\xa0\\ncode\\xa0instruction\\xa0set\\xa0disallows\\xa0them\\xa0from\\xa0directly\\xa0accessing\\xa0anything\\xa0outside\\xa0of\\xa0this\\xa0environment.\\xa0\\nAccesses\\xa0outside\\xa0of\\xa0the\\xa0sandbox\\xa0can\\xa0only\\xa0be\\xa0done\\xa0by\\xa0using\\xa0some\\xa0of\\xa0the\\xa0Java\\xa0libraries,\\xa0allowing\\xa0\\ndisk\\xa0access,\\xa0network\\xa0access,\\xa0and\\xa0printing,\\xa0or\\xa0by\\xa0calling\\xa0native\\xa0methods.\\xa0The\\xa0Java\\xa0Security\\xa0\\nManager\\xa0controls\\xa0which\\xa0programs\\xa0are\\xa0permitted\\xa0access\\xa0outside\\xa0of\\xa0the\\xa0sandbox,\\xa0and\\xa0the\\xa0nature\\xa0\\nof\\xa0the\\xa0outside\\xa0access.\\xa0For\\xa0example,\\xa0by\\xa0default,\\xa0applets\\xa0are\\xa0permitted\\xa0to\\xa0make\\xa0network\\xa0\\nconnections\\xa0to\\xa0their\\xa0original\\xa0source\\xa0computer,\\xa0but\\xa0not\\xa0to\\xa0any\\xa0other\\xa0computers.\\xa0\\xa0\\xa0The\\xa0Security\\xa0\\nManager\\xa0may\\xa0grant\\xa0special\\xa0privileges\\xa0to\\xa0all\\xa0classes\\xa0from\\xa0the\\xa0same\\xa0author,\\xa0or\\xa0to\\xa0just\\xa0some\\xa0\\nclasses.\\xa0\\nAgent\\xa0Tcl\\xa0enforces\\xa0runtime\\xa0security\\xa0checks\\xa0with\\xa0a\\xa0technique\\xa0similar\\xa0to\\xa0that\\xa0used\\xa0by\\xa0the\\xa0Safe\\xadTcl\\xa0\\n[OLW96]\\xa0interpreter.\\xa0\\xa0Mobile\\xa0agents\\xa0are\\xa0run\\xa0within\\xa0their\\xa0own\\xa0\\u200b\\nsafe\\u200b\\n\\xa0interpreters.\\xa0\\xa0In\\xa0the\\xa0safe\\xa0\\ninterpreters\\xa0commands\\xa0that\\xa0access\\xa0outside\\xa0resources\\xa0are\\xa0hidden.\\xa0\\xa0When\\xa0an\\xa0agent\\xa0invokes\\xa0a\\xa0\\nhidden\\xa0command,\\xa0it\\xa0is\\xa0redirected\\xa0to\\xa0the\\xa0\\u200b\\nmaster\\u200b\\n\\xa0interpreter.\\xa0\\xa0The\\xa0master\\xa0interpreter\\xa0implements\\xa0a\\xa0\\nsecurity\\xa0policy\\xa0of\\xa0what\\xa0commands\\xa0may\\xa0be\\xa0available\\xa0to\\xa0which\\xa0agents.\\xa0\\xa0If\\xa0the\\xa0security\\xa0policy\\xa0\\nallows\\xa0the\\xa0command\\xa0for\\xa0a\\xa0particular\\xa0agent,\\xa0then\\xa0the\\xa0master\\xa0interpreter\\xa0calls\\xa0the\\xa0hidden\\xa0\\ncommand\\xa0in\\xa0the\\xa0safe\\xa0interpreter.\\xa0\\xa0The\\xa0security\\xa0policy\\xa0is\\xa0user\\xaddefined\\xa0by\\xa0the\\xa0administrator\\xa0of\\xa0the\\xa0\\nserver.\\xa0\\nIn\\xa0Telescript\\xa0all\\xa0agents\\xa0and\\xa0places\\xa0have\\xa0an\\xa0\\u200b\\nauthority\\u200b\\n\\xa0property.\\xa0The\\xa0authority\\xa0is\\xa0a\\xa0class\\xa0that\\xa0\\ndefines\\xa0the\\xa0individual\\xa0or\\xa0organisation\\xa0in\\xa0the\\xa0physical\\xa0world\\xa0that\\xa0the\\xa0agent\\xa0or\\xa0place\\xa0represents.\\xa0\\nAgents\\xa0and\\xa0places\\xa0must\\xa0reveal\\xa0their\\xa0authority\\xa0to\\xa0another\\xa0agent\\xa0of\\xa0place\\xa0on\\xa0request.\\xa0They\\xa0may\\xa0\\nnot\\xa0falsify\\xa0or\\xa0withhold\\xa0their\\xa0authority.\\xa0The\\xa0network\\xa0of\\xa0places\\xa0is\\xa0divided\\xa0into\\xa0\\u200b\\nregions\\xa0\\u200b\\nunder\\xa0the\\xa0\\nsame\\xa0authority.\\xa0When\\xa0an\\xa0agent\\xa0tries\\xa0to\\xa0move\\xa0from\\xa0one\\xa0region\\xa0to\\xa0another,\\xa0the\\xa0source\\xa0region\\xa0\\nmust\\xa0prove\\xa0the\\xa0authority\\xa0of\\xa0the\\xa0agent\\xa0to\\xa0the\\xa0destination\\xa0region.\\xa0[Whi96]\\xa0\\nThe\\xa0Telescript\\xa0language\\xa0also\\xa0has\\xa0\\u200b\\npermits\\u200b\\n.\\xa0Authorities\\xa0limit\\xa0what\\xa0agents\\xa0can\\xa0do\\xa0by\\xa0assigning\\xa0\\nthem\\xa0permits.\\xa0Permits\\xa0are\\xa0used\\xa0to\\xa0limit\\xa0what\\xa0instructions\\xa0agents\\xa0execute,\\xa0and\\xa0to\\xa0limit\\xa0their\\xa0\\nresources\\xa0to\\xa0a\\xa0budget.\\xa0For\\xa0example\\xa0the\\xa0agent\\'s\\xa0permit\\xa0can\\xa0limit\\xa0its\\xa0lifetime\\xa0or\\xa0the\\xa0amount\\xa0of\\xa0\\ncomputation\\xa0it\\xa0may\\xa0do.\\xa0Telescript\\xa0was\\xa0designed\\xa0with\\xa0electronic\\xa0commerce\\xa0in\\xa0mind,\\xa0so\\xa0the\\xa0same\\xa0\\nresource\\xa0permits\\xa0can\\xa0be\\xa0used\\xa0to\\xa0allocate\\xa0agents\\xa0an\\xa0amount\\xa0of\\xa0money.\\xa0If\\xa0an\\xa0agent\\xa0ever\\xa0tries\\xa0to\\xa0\\nviolate\\xa0the\\xa0conditions\\xa0of\\xa0its\\xa0permit\\xa0it\\xa0is\\xa0destroyed.\\xa0[Whi96]\\xa0\\nThe\\xa0Telescript\\xa0language\\xa0provides\\xa0a\\xa0very\\xa0powerful\\xa0and\\xa0flexible\\xa0framework\\xa0for\\xa0protecting\\xa0the\\xa0host\\xa0\\ncomputers\\xa0from\\xa0untrusted\\xa0sources,\\xa0but\\xa0at\\xa0the\\xa0same\\xa0time\\xa0not\\xa0getting\\xa0in\\xa0the\\xa0way\\xa0of\\xa0doing\\xa0\\nbusiness\\xa0with\\xa0trusted\\xa0sources.\\xa0\\nThe\\xa0common\\xa0way\\xa0for\\xa0the\\xa0host\\xa0to\\xa0authenticate\\xa0incoming\\xa0mobile\\xa0agents\\xa0is\\xa0through\\xa0digital\\xa0signing.\\xa0\\nMost\\xa0Java\\xa0mobile\\xa0agent\\xa0systems\\xa0and\\xa0Agent\\xa0Tcl\\xa0use\\xa0this\\xa0method.\\xa0\\xa0When\\xa0an\\xa0agent\\xa0is\\xa0transported,\\xa0\\nthe\\xa0message\\xa0containing\\xa0it\\xa0is\\xa0signed\\xa0by\\xa0the\\xa0sender\\xa0agent\\xa0server.\\xa0\\xa0The\\xa0receiver\\xa0agent\\xa0server\\xa0\\nauthenticates\\xa0the\\xa0mobile\\xa0agent\\xa0message\\xa0on\\xa0arrival.\\xa0\\xa0If\\xa0any\\xa0part\\xa0of\\xa0the\\xa0agent\\xa0message\\xa0was\\xa0\\naltered\\xa0in\\xa0transit,\\xa0the\\xa0digital\\xa0signature\\xa0is\\xa0no\\xa0longer\\xa0valid.\\xa0\\xa0The\\xa0sender\\xa0agent\\xa0server\\xa0signs\\xa0the\\xa0\\nagent\\xa0rather\\xa0than\\xa0the\\xa0original\\xa0author\\xa0because\\xa0an\\xa0agent\\xa0includes\\xa0the\\xa0program\\xa0plus\\xa0the\\xa0state.\\xa0\\xa0The\\xa0\\nstate\\xa0will\\xa0change.\\xa0\\nObliq\\xa0has\\xa0a\\xa0completely\\xa0different\\xa0mechanism\\xa0of\\xa0achieving\\xa0security.\\xa0\\xa0Obliq\\xa0relies\\xa0on\\xa0the\\xa0lexical\\xa0\\nscoping\\xa0of\\xa0the\\xa0semantics\\xa0of\\xa0the\\xa0language,\\xa0together\\xa0with\\xa0strong\\xa0runtime\\xa0checking.\\xa0\\xa0When\\xa0a\\xa0agent\\xa0\\nis\\xa0given\\xa0to\\xa0a\\xa0remote\\xa0site\\xa0for\\xa0execution,\\xa0because\\xa0of\\xa0lexical\\xa0scoping\\xa0these\\xa0agents\\xa0can\\xa0only\\xa0access\\xa0\\ndata\\xa0or\\xa0resources\\xa0that\\xa0they\\xa0can\\xa0reference\\xa0via\\xa0free\\xa0identifiers,\\xa0or\\xa0that\\xa0are\\xa0given\\xa0in\\xa0as\\xa0procedure\\xa0\\nparameters.\\xa0\\xa0Lexical\\xa0scoping\\xa0dictates\\xa0that\\xa0the\\xa0free\\xa0identifiers\\xa0refer\\xa0to\\xa0values\\xa0that\\xa0are\\xa0available\\xa0at\\xa0\\nthe\\xa0client\\xa0site.\\xa0\\xa0Hence,\\xa0the\\xa0only\\xa0way\\xa0an\\xa0agent\\xa0can\\xa0obtain\\xa0access\\xa0to\\xa0a\\xa0server\\'s\\xa0resources\\xa0is\\xa0by\\xa0\\nassigning\\xa0variables\\xa0to\\xa0resources\\xa0that\\xa0the\\xa0server\\xa0exports\\xa0to\\xa0the\\xa0client\\xa0site.\\xa0\\xa0The\\xa0values\\xa0of\\xa0these\\xa0\\nvariables\\xa0can\\xa0then\\xa0be\\xa0passed\\xa0as\\xa0parameters\\xa0to\\xa0the\\xa0agent.\\xa0\\xa0Hence,\\xa0the\\xa0agent\\xa0is\\xa0only\\xa0able\\xa0to\\xa0\\naccess\\xa0server\\xa0resources\\xa0that\\xa0the\\xa0server\\xa0explicitly\\xa0exports.\\xa0[Car95]\\xa0\\nThe\\xa0following\\xa0code\\xa0fragement\\xa0illustrates.\\xa0\\xa0agent1\\xa0uses\\xa0a\\xa0local\\xa0resource.\\xa0\\xa0agent2\\xa0is\\xa0able\\xa0to\\xa0use\\xa0a\\xa0\\nremote\\xa0resource\\xa0by\\xa0obtaining\\xa0a\\xa0binding\\xa0to\\xa0an\\xa0exported\\xa0remote\\xa0resource,\\xa0and\\xa0passing\\xa0this\\xa0as\\xa0a\\xa0\\nparameter\\xa0to\\xa0the\\xa0agent.\\xa0\\n\\xa0\\nlet\\xa0agent1\\xa0=\\xa0proc(arg)\\xa0\\nresource\\xa0=\\xa0getResource();\\xa0\\nuse(resource)\\xa0\\nend;\\xa0\\nlet\\xa0agent2\\xa0=\\xa0proc(resource,\\xa0arg)\\xa0\\nuse(resource)\\xa0\\nend;\\xa0\\n(get\\xa0a\\xa0handle\\xa0to\\xa0remote\\xa0site\\xa0execution\\xa0engine)\\xa0\\nlet\\xa0remoteSite\\xa0=\\xa0net_import(\"RemoteServer\",\\xa0Namer);\\xa0\\n(Execute\\xa0the\\xa0agent1\\xa0at\\xa0the\\xa0remote\\xa0site\\xa0\\xad\\xad\\xa0local\\xa0resource\\xa0is\\xa0used)\\xa0\\nremoteSite(proc\\xa0(arg)\\xa0agent1(arg)\\xa0end)\\xa0\\n(Get\\xa0resource\\xa0that\\xa0the\\xa0remote\\xa0site\\xa0exports)\\xa0\\nresource\\xa0=\\xa0getResource(remoteSite)\\xa0\\n(Execute\\xa0the\\xa0agent2\\xa0at\\xa0the\\xa0remote\\xa0site,\\xa0remote\\xa0resource\\xa0is\\xa0passed\\xa0as\\xa0parameter)\\xa0\\nremoteSite(proc\\xa0(arg)\\xa0agent2(resource,\\xa0arg)\\xa0end)\\xa0\\n\\xa0\\xa0\\n4.5\\xa0Efficiency\\xa0\\nMobile\\xa0agents\\xa0need\\xa0to\\xa0be\\xa0executed\\xa0reasonably\\xa0efficiently.\\xa0\\xa0Execution\\xa0performance\\xa0is\\xa0often\\xa0not\\xa0\\nan\\xa0important\\xa0issue\\xa0for\\xa0the\\xa0mobile\\xa0agent\\xa0itself.\\xa0\\xa0For\\xa0agents\\xa0with\\xa0a\\xa0high\\xa0mobility\\xa0rate,\\xa0the\\xa0\\nbottleneck\\xa0to\\xa0performance\\xa0is\\xa0likely\\xa0to\\xa0be\\xa0the\\xa0network\\xa0rather\\xa0than\\xa0their\\xa0execution\\xa0speed.\\xa0\\nExecution\\xa0speed\\xa0is\\xa0also\\xa0not\\xa0critical\\xa0for\\xa0agents\\xa0that\\xa0spend\\xa0most\\xa0of\\xa0their\\xa0time\\xa0idle\\xa0waiting\\xa0for\\xa0\\nevents\\xa0to\\xa0happen,\\xa0(such\\xa0as\\xa0the\\xa0agent\\xa0that\\xa0monitors\\xa0stock\\xa0prices.)\\xa0\\xa0For\\xa0such\\xa0applications,\\xa0even\\xa0\\nthe\\xa0slowest\\xa0scripting\\xa0languages\\xa0will\\xa0probably\\xa0suffice.\\xa0\\xa0However,\\xa0performance\\xa0speed\\xa0may\\xa0be\\xa0an\\xa0\\nissue\\xa0for\\xa0the\\xa0server\\xa0running\\xa0the\\xa0mobile\\xa0agents.\\xa0\\xa0If\\xa0the\\xa0speed\\xa0of\\xa0the\\xa0mobile\\xa0agents\\xa0is\\xa0faster,\\xa0then\\xa0\\nthe\\xa0server\\xa0has\\xa0a\\xa0capacity\\xa0for\\xa0running\\xa0more\\xa0agents.\\xa0\\xa0Performance\\xa0efficiency\\xa0may\\xa0also\\xa0become\\xa0an\\xa0\\nissue\\xa0for\\xa0the\\xa0user.\\xa0\\xa0In\\xa0the\\xa0future,\\xa0it\\xa0may\\xa0be\\xa0that\\xa0users\\xa0will\\xa0have\\xa0to\\xa0pay\\xa0for\\xa0the\\xa0computation\\xa0\\nresources\\xa0used\\xa0by\\xa0their\\xa0mobile\\xa0agents.\\xa0\\xa0Agents\\xa0written\\xa0in\\xa0a\\xa0more\\xa0efficient\\xa0language\\xa0will\\xa0inflict\\xa0\\nlower\\xa0bills.\\xa0\\nJava\\xa0was\\xa0designed\\xa0to\\xa0be\\xa0high\\xa0performance\\xa0interpreted\\xa0language.\\xa0\\xa0Java\\xa0programs\\xa0are\\xa0compiled\\xa0\\nto\\xa0Java\\xa0byte\\xa0code,\\xa0instructions\\xa0for\\xa0the\\xa0Java\\xa0virtual\\xa0machine.\\xa0\\xa0The\\xa0byte\\xa0codes\\xa0are\\xa0interpreted\\xa0at\\xa0\\nruntime.\\xa0\\xa0Java\\xa0programs\\xa0running\\xa0on\\xa0Sun\\'s\\xa0implementation\\xa0of\\xa0the\\xa0Java\\xa01.1\\xa0virtual\\xa0machine\\xa0are\\xa0\\nestimated\\xa0to\\xa0execute\\xa0at\\xa0about\\xa010\\xa0times\\xa0slower\\xa0than\\xa0optimized\\xa0native\\xa0C.\\xa0\\xa0This\\xa0is\\xa0an\\xa0extremely\\xa0\\ngood\\xa0performance\\xa0for\\xa0an\\xa0interpreted\\xa0language.\\xa0[Fla97]\\xa0\\xa0Java\\'s\\xa0performance\\xa0will\\xa0be\\xa0improved\\xa0\\nagain\\xa0with\\xa0the\\xa0implementation\\xa0of\\xa0Just\\xadIn\\xadTime\\xa0compilers.\\xa0\\xa0This\\xa0is\\xa0a\\xa0technology\\xa0that\\xa0numerous\\xa0\\ncompanies\\xa0are\\xa0currently\\xa0working\\xa0on.\\xa0\\xa0Java\\xa0byte\\xa0code\\xa0is\\xa0compiled\\xa0to\\xa0native\\xa0binaries\\xa0just\\xa0prior\\xa0to\\xa0\\nprogram\\xa0execution,\\xa0giving\\xa0an\\xa0execution\\xa0speed\\xa0almost\\xa0as\\xa0fast\\xa0as\\xa0optimized\\xa0native\\xa0C.\\xa0\\xa0[jav94]\\xa0\\nThe\\xa0compilation\\xa0however\\xa0causes\\xa0an\\xa0overhead\\xa0at\\xa0the\\xa0application\\xa0start\\xa0up.\\xa0\\xa0Whether\\xa0Just\\xadIn\\xadTime\\xa0\\ncompilers\\xa0will\\xa0be\\xa0useful\\xa0for\\xa0mobile\\xa0agents\\xa0depends\\xa0on\\xa0the\\xa0application.\\xa0\\xa0The\\xa0compilation\\xa0penalty\\xa0\\nwill\\xa0only\\xa0payoff\\xa0for\\xa0mobile\\xa0agents\\xa0that\\xa0stay\\xa0at\\xa0one\\xa0site\\xa0for\\xa0a\\xa0relatively\\xa0long\\xa0time.\\xa0\\nTcl\\xa0was\\xa0not\\xa0designed\\xa0for\\xa0performance,\\xa0but\\xa0as\\xa0a\\xa0high\\xa0level\\xa0scripting\\xa0language\\xa0for\\xa0gluing\\xa0\\ncomponents\\xa0together.\\xa0\\xa0The\\xa0runtime\\xa0speed\\xa0of\\xa0a\\xa0Tcl\\xa0program\\xa0is\\xa0between\\xa0one\\xa0hundred\\xa0and\\xa0ten\\xa0\\nthousand\\xa0times\\xa0slower\\xa0than\\xa0optimized\\xa0native\\xa0C.\\xa0[SBD94]\\xa0\\xa0However,\\xa0this\\xa0speed\\xa0may\\xa0be\\xa0\\nadequate\\xa0for\\xa0many\\xa0mobile\\xa0agent\\xa0applications.\\xa0\\xa0There\\xa0is\\xa0work\\xa0being\\xa0done\\xa0on\\xa0Tcl\\xa0compilers.\\xa0\\xa0This\\xa0\\noffers\\xa0a\\xa0significant\\xa0speed\\xa0ups\\xa0to\\xa0Tcl\\'s\\xa0runtime\\xa0performance.\\xa0\\xa0Unfortunately,\\xa0the\\xa0work\\xa0on\\xa0Tcl\\xa0\\ncompilers\\xa0is\\xa0currently\\xa0not\\xa0unified\\xa0with\\xa0Agent\\xa0Tcl.\\xa0\\n\\xa0\\xa0\\n4.6\\xa0Cross\\xa0platform\\xa0\\nIn\\xa0most\\xa0cases\\xa0it\\xa0is\\xa0desirable\\xa0for\\xa0a\\xa0mobile\\xa0agent\\xa0to\\xa0be\\xa0able\\xa0to\\xa0migrate\\xa0across\\xa0a\\xa0heterogeneous\\xa0\\nnetwork.\\xa0\\xa0Certainly,\\xa0for\\xa0a\\xa0mobile\\xa0agent\\xa0to\\xa0be\\xa0used\\xa0on\\xa0the\\xa0Internet\\xa0this\\xa0is\\xa0a\\xa0requirement.\\xa0\\xa0For\\xa0this\\xa0\\nto\\xa0be\\xa0possible,\\xa0the\\xa0agent\\xa0must\\xa0be\\xa0written\\xa0in\\xa0a\\xa0language\\xa0that\\xa0is\\xa0supported\\xa0on\\xa0all\\xa0its\\xa0potential\\xa0host\\xa0\\ncomputers.\\xa0\\xa0This\\xa0is\\xa0one\\xa0of\\xa0the\\xa0reasons\\xa0why\\xa0nearly\\xa0all\\xa0mobile\\xa0agent\\xa0systems\\xa0use\\xa0interpreted\\xa0\\nlanguages.\\xa0\\xa0All\\xa0the\\xa0languages\\xa0looked\\xa0at\\xa0are\\xa0interpreted.\\xa0\\nTelescript,\\xa0Java\\xa0and\\xa0Agent\\xa0Tcl\\xa0agents\\xa0are\\xa0all\\xa0interpreted\\xa0at\\xa0execution.\\xa0\\xa0Interpreters\\xa0for\\xa0these\\xa0\\nlanguages\\xa0exist\\xa0across\\xa0different\\xa0platforms.\\xa0\\xa0(Obliq\\xa0interpreters\\xa0are\\xa0currently\\xa0only\\xa0available\\xa0for\\xa0\\nUNIX.)\\xa0\\xa0Despite\\xa0this\\xa0Java\\xa0has\\xa0a\\xa0number\\xa0of\\xa0advantages\\xa0in\\xa0this\\xa0area.\\xa0\\xa0First,\\xa0Java\\xa0Virtual\\xa0Machine\\xa0\\ninterpreters\\xa0already\\xa0exist\\xa0on\\xa0many\\xa0computers.\\xa0\\xa0Most\\xa0major\\xa0operating\\xa0system\\xa0vendors,\\xa0including\\xa0\\nMicrosoft,\\xa0Sun,\\xa0IBM,\\xa0Novell\\xa0and\\xa0Apple\\xa0have\\xa0announced\\xa0that\\xa0they\\xa0plan\\xa0to\\xa0include\\xa0the\\xa0Java\\xa0Virtual\\xa0\\nMachine\\xa0as\\xa0part\\xa0of\\xa0the\\xa0next\\xa0releases\\xa0of\\xa0their\\xa0respective\\xa0operating\\xa0systems.\\xa0\\xa0Mobile\\xa0agents\\xa0\\nwritten\\xa0in\\xa0Java\\xa0will\\xa0not\\xa0require\\xa0a\\xa0special\\xa0purpose\\xa0interpreter\\xa0to\\xa0run.\\xa0\\xa0The\\xa0mobile\\xa0agent\\xa0interpreter\\xa0\\ncan\\xa0be\\xa0expected\\xa0to\\xa0be\\xa0already\\xa0available\\xa0on\\xa0most\\xa0machines.\\xa0\\xa0Agent\\xa0Tcl\\xa0requires\\xa0a\\xa0special\\xa0\\npurpose\\xa0interpreter.\\xa0\\xa0Telescript\\xa0programs\\xa0require\\xa0a\\xa0Telescript\\xa0execution\\xa0engine,\\xa0a\\xa0closed\\xa0\\nstandard\\xa0commercial\\xa0product.\\xa0\\xa0One\\xa0cannot\\xa0realistically\\xa0expect\\xa0the\\xa0Telescript\\xa0execution\\xa0engine\\xa0to\\xa0\\nbecome\\xa0as\\xa0widely\\xa0spread\\xa0as\\xa0Java\\xa0Virtual\\xa0Machine\\xa0interpreters.\\xa0\\xa0Second,\\xa0a\\xa0general\\xa0problem\\xa0with\\xa0\\ncross\\xa0platform\\xa0technology\\xa0is\\xa0that,\\xa0despite\\xa0the\\xa0intentions,\\xa0some\\xa0parts\\xa0of\\xa0the\\xa0implementation\\xa0act\\xa0\\ndifferently\\xa0on\\xa0different\\xa0platforms.\\xa0\\xa0While\\xa0this\\xa0is\\xa0certainly\\xa0a\\xa0problem\\xa0with\\xa0Java\\xa0now,\\xa0one\\xa0might\\xa0\\noptimistically\\xa0expect\\xa0these\\xa0bugs\\xa0to\\xa0be\\xa0fixed,\\xa0simply\\xa0because\\xa0of\\xa0the\\xa0magnitude\\xa0of\\xa0the\\xa0resources\\xa0\\ninvolved\\xa0in\\xa0Java\\xa0research\\xa0and\\xa0development.\\xa0\\nAs\\xa0a\\xa0sign\\xa0perhaps\\xa0that\\xa0General\\xa0Magic\\xa0accepts\\xa0that\\xa0Java\\xa0has\\xa0become\\xa0the\\xa0cross\\xa0platform\\xa0\\nstandard,\\xa0it\\xa0is\\xa0attempting\\xa0to\\xa0implement\\xa0a\\xa0Java\\xadbased\\xa0equivalent\\xa0of\\xa0its\\xa0Telescript\\xa0technology.\\xa0\\n4.7\\xa0Language\\xa0structure\\xa0\\nThe\\xa0language\\xa0that\\xa0the\\xa0program\\xa0is\\xa0written\\xa0in\\xa0should\\xa0suit\\xa0the\\xa0task.\\xa0\\xa0There\\xa0are\\xa0two\\xa0views\\xa0as\\xa0to\\xa0what\\xa0\\nis\\xa0required\\xa0of\\xa0the\\xa0task\\xa0for\\xa0mobile\\xa0agents.\\xa0\\xa0The\\xa0language\\xa0should\\xa0be\\xa0compatible\\xa0with\\xa0\\nagent\\xadoriented\\xa0programming.\\xa0\\xa0There\\xa0is\\xa0also\\xa0an\\xa0issue\\xa0of\\xa0what\\xa0level\\xa0of\\xa0language\\xa0is\\xa0suitable\\xa0for\\xa0\\nwriting\\xa0mobile\\xa0agents.\\xa0\\nAgents\\xa0can\\xa0be\\xa0well\\xa0modelled\\xa0with\\xa0Object\\xa0oriented\\xa0languages.\\xa0\\xa0Agha\\xa0[Agh90]\\xa0argues\\xa0that\\xa0agents\\xa0\\nare\\xa0extensions\\xa0of\\xa0objects.\\xa0\\xa0Like\\xa0objects,\\xa0agents\\xa0are\\xa0self\\xadcontained\\xa0autonomous\\xa0entities.\\xa0\\xa0Like\\xa0\\nobjects,\\xa0agents\\xa0have\\xa0properties\\xa0and\\xa0perform\\xa0actions,\\xa0mapping\\xa0to\\xa0the\\xa0object\\xadoriented\\xa0concepts\\xa0of\\xa0\\nattributes\\xa0and\\xa0methods.\\xa0\\xa0\\xa0The\\xa0other\\xa0object\\xadoriented\\xa0principles:\\xa0inheritance\\xa0and\\xa0polymorphism\\xa0\\nare\\xa0also\\xa0compatible\\xa0with\\xa0agent\\xa0programming.\\xa0\\xa0Object\\xa0oriented\\xa0languages\\xa0are\\xa0well\\xa0suited\\xa0to\\xa0\\nrepresenting\\xa0agents.\\xa0\\xa0Telescript\\xa0implements\\xa0agents\\xa0as\\xa0a\\xa0built\\xadin\\xa0class.\\xa0\\xa0All\\xa0Telescript\\xa0agents\\xa0\\nneed\\xa0to\\xa0be\\xa0derived\\xa0from\\xa0this\\xa0class.\\xa0\\xa0The\\xa0various\\xa0Java\\xa0implementations\\xa0of\\xa0mobile\\xa0agents\\xa0also\\xa0\\ndefine\\xa0a\\xa0base\\xa0agent\\xa0class,\\xa0from\\xa0which\\xa0all\\xa0agents\\xa0are\\xa0subclasses\\xa0of.\\xa0\\nTcl\\xa0is\\xa0not\\xa0object\\xa0oriented.\\xa0\\xa0Tcl\\xa0has\\xa0no\\xa0code\\xa0modularisation\\xa0other\\xa0than\\xa0procedures.\\xa0\\xa0This\\xa0is\\xa0seen\\xa0\\nas\\xa0a\\xa0problem\\xa0by\\xa0the\\xa0makers\\xa0of\\xa0Agent\\xa0Tcl.\\xa0\\xa0However,\\xa0there\\xa0is\\xa0an\\xa0object\\xadoriented\\xa0extension\\xa0of\\xa0Tcl\\xa0\\ncalled\\u200b\\n\\xa0\\u200b\\n[incr\\xa0Tcl]\\u200b\\n.\\xa0\\xa0The\\xa0Agent\\xa0Tcl\\xa0developers\\xa0are\\xa0optimistic\\xa0that\\xa0they\\xa0will\\xa0be\\xa0able\\xa0to\\xa0unify\\xa0Agent\\xa0Tcl\\xa0\\nwith\\xa0the\\xa0object\\xadoriented\\xa0extensions.\\xa0[Gra95b]\\xa0\\nThere\\xa0is\\xa0also\\xa0an\\xa0issue\\xa0whether\\xa0a\\xa0lower\\xa0level\\xa0system\\xa0language\\xa0or\\xa0a\\xa0high\\xa0level\\xa0scripting\\xa0language\\xa0\\nis\\xa0more\\xa0suitable\\xa0to\\xa0writing\\xa0mobile\\xa0agents.\\xa0\\xa0In\\xa0mobile\\xa0agents\\xa0languages,\\xa0Java\\xa0represents\\xa0the\\xa0\\nsystem\\xa0languages.\\xa0\\xa0Tcl,\\xa0Python\\xa0and\\xa0Perl\\xa0represent\\xa0the\\xa0scripting\\xa0languages.\\xa0\\xa0Telescript\\xa0and\\xa0\\nObliq\\xa0lie\\xa0somewhere\\xa0in\\xa0between.\\xa0\\xa0The\\xa0advantage\\xa0of\\xa0system\\xa0languages\\xa0are\\xa0execution\\xa0speed\\xa0and\\xa0\\nflexibility.\\xa0\\xa0Scripting\\xa0languages\\xa0are\\xa0well\\xa0suited\\xa0to\\xa0gluing\\xa0components\\xa0together.\\xa0\\xa0The\\xa0advantage\\xa0of\\xa0\\nscripting\\xa0languages\\xa0is\\xa0speed\\xa0of\\xa0development.\\xa0\\xa0For\\xa0writing\\xa0agents\\xa0to\\xa0customise\\xa0the\\xa0services\\xa0\\nprovided\\xa0on\\xa0network\\xa0servers,\\xa0scripting\\xa0languages\\xa0seem\\xa0to\\xa0be\\xa0well\\xa0suited.\\xa0\\xa0For\\xa0lower\\xa0level\\xa0tasks\\xa0\\nand\\xa0performance\\xa0critical\\xa0applications,\\xa0a\\xa0system\\xa0language\\xa0like\\xa0Java\\xa0is\\xa0well\\xa0suited.\\xa0\\xa0As\\xa0mobile\\xa0\\nagents\\xa0become\\xa0widespread\\xa0it\\xa0will\\xa0be\\xa0interesting\\xa0to\\xa0see\\xa0which\\xa0applications\\xa0dominate.\\xa0\\nDeclarative\\xa0languages\\xa0may\\xa0also\\xa0be\\xa0useful\\xa0for\\xa0writing\\xa0mobile\\xa0agents.\\xa0\\xa0Declarative\\xa0languages\\xa0are\\xa0\\nwell\\xa0suited\\xa0to\\xa0knowledge\\xa0representation\\xa0and\\xa0reasoning.\\xa0\\xa0Hence\\xa0they\\xa0would\\xa0seem\\xa0suitable\\xa0for\\xa0\\nwriting\\xa0intelligent\\xa0mobile\\xa0agents.\\xa0\\xa0It\\xa0is\\xa0interesting\\xa0that\\xa0there\\xa0have\\xa0been\\xa0no\\xa0prominent\\xa0mobile\\xa0\\nagent\\xa0implementations\\xa0using\\xa0a\\xa0declarative\\xa0language.\\xa0\\n5.\\xa0Conclusions\\xa0\\nMobile\\xa0agent\\xa0languages\\xa0are\\xa0able\\xa0to\\xa0support\\xa0the\\xa0following\\xa0capabilities:\\xa0\\n●\\nsupport\\xa0for\\xa0agent\\xa0migration,\\xa0\\n●\\nsupport\\xa0for\\xa0agent\\xadto\\xadagent\\xa0communication,\\xa0\\n●\\nsupport\\xa0for\\xa0interaction\\xa0with\\xa0local\\xa0resources,\\xa0\\n●\\nsecurity\\xa0mechanisms,\\xa0\\n●\\nsuitable\\xa0execution\\xa0efficiency,\\xa0\\n●\\nlanguage\\xa0implementation\\xa0across\\xa0multiple\\xa0platforms,\\xa0and\\xa0\\n●\\nease\\xa0of\\xa0programming\\xa0of\\xa0the\\xa0tasks\\xa0mobile\\xa0agents\\xa0perform.\\xa0\\nOf\\xa0the\\xa0languages\\xa0considered,\\xa0Telescript\\xa0is\\xa0arguably\\xa0the\\xa0best\\xa0language\\xa0for\\xa0implementing\\xa0mobile\\xa0\\nagents.\\xa0\\xa0It\\xa0is\\xa0a\\xa0language\\xa0that\\xa0has\\xa0been\\xa0designed\\xa0specifically\\xa0for\\xa0this\\xa0purpose.\\xa0\\xa0The\\xa0Telescript\\xa0\\nlanguage\\xa0directly\\xa0addresses\\xa0each\\xa0of\\xa0the\\xa0problem\\xa0specified.\\xa0\\xa0The\\xa0problem\\xa0with\\xa0Telescript\\xa0is\\xa0that\\xa0\\nit\\xa0is\\xa0proprietary\\xa0software\\xa0and\\xa0a\\xa0closed\\xa0standard.\\xa0\\nThe\\xa0Java\\xa0language\\xa0is\\xa0multi\\xadpurpose,\\xa0but\\xa0it\\xa0has\\xa0necessary\\xa0capabilities\\xa0for\\xa0writing\\xa0mobile\\xa0agents.\\xa0\\nJava\\xa0is\\xa0inferior\\xa0to\\xa0Telescript\\xa0in\\xa0the\\xa0areas\\xa0of\\xa0support\\xa0for\\xa0agent\\xa0migration,\\xa0communication\\xa0between\\xa0\\nagents\\xa0and\\xa0interfacing\\xa0access\\xa0to\\xa0host\\xa0computer\\xa0resources.\\xa0\\xa0In\\xa0the\\xa0other\\xa0areas\\xa0however\\xa0Java\\xa0at\\xa0\\nleast\\xa0equals\\xa0Telescript.\\xa0\\xa0Java\\'s\\xa0advantage\\xa0over\\xa0Telescript\\xa0is\\xa0that\\xa0it\\xa0has\\xa0an\\xa0open\\xa0specification.\\xa0\\nWhat\\xa0makes\\xa0a\\xa0mobile\\xa0agent\\xa0useful\\xa0is\\xa0the\\xa0ability\\xa0to\\xa0run\\xa0on\\xa0remote\\xa0machines.\\xa0In\\xa0the\\xa0future\\xa0it\\xa0\\nwould\\xa0seem\\xa0likely\\xa0that\\xa0there\\xa0will\\xa0be\\xa0many\\xa0more\\xa0hosts\\xa0available\\xa0with\\xa0Java\\xa0Virtual\\xa0Machines\\xa0than\\xa0\\nthose\\xa0with\\xa0Telescript\\xa0engines.\\xa0Hence\\xa0even\\xa0though\\xa0the\\xa0Telescript\\xa0language\\xa0may\\xa0be\\xa0better\\xa0than\\xa0\\nJava\\xa0for\\xa0writing\\xa0mobile\\xa0agents,\\xa0Java\\xa0agents\\xa0will\\xa0probably\\xa0be\\xa0able\\xa0to\\xa0run\\xa0on\\xa0more\\xa0machines.\\xa0The\\xa0\\nsituation\\xa0is\\xa0in\\xa0some\\xa0ways\\xa0analogous\\xa0to\\xa0Beta\\xa0and\\xa0VHS,\\xa0(Apple\\xa0Macs\\xa0and\\xa0PCs.)\\xa0\\xa0An\\xa0open\\xa0\\nstandards\\xa0system\\xa0that\\xa0delivers\\xa0the\\xa0same\\xa0functionality\\xa0to\\xa0the\\xa0user\\xa0can\\xa0be\\xa0expected\\xa0in\\xa0the\\xa0long\\xa0\\nrun\\xa0to\\xa0gain\\xa0a\\xa0greater\\xa0market\\xa0share\\xa0than\\xa0a\\xa0proprietary\\xa0technology.\\xa0\\nAgent\\xa0Tcl\\xa0is\\xa0a\\xa0high\\xa0level\\xa0scripting\\xa0language\\xa0that\\xa0has\\xa0many\\xa0of\\xa0Telescript\\'s\\xa0capabilities\\xa0with\\xa0\\nrespect\\xa0to\\xa0agent\\xa0migration\\xa0and\\xa0agent\\xa0communication.\\xa0\\xa0Agent\\xa0Tcl\\xa0and\\xa0Java\\xa0are\\xa0not\\xa0in\\xa0direct\\xa0\\ncompetition,\\xa0since\\xa0they\\xa0offer\\xa0different\\xa0capabilities.\\xa0\\nMobile\\xa0agents\\xa0appear\\xa0to\\xa0be\\xa0on\\xa0the\\xa0verge\\xa0of\\xa0entering\\xa0mainstream\\xa0computing.\\xa0\\xa0There\\xa0are\\xa0\\ncurrently\\xa0many\\xa0competing\\xa0agent\\xa0languages.\\xa0\\xa0Only\\xa0a\\xa0few\\xa0will\\xa0gain\\xa0enough\\xa0support\\xa0to\\xa0enable\\xa0the\\xa0\\nvision\\xa0of\\xa0mobile\\xa0agents\\xa0roaming\\xa0the\\xa0internet\\xa0become\\xa0a\\xa0reality.\\xa0\\n\\xa0\\n\\xa0\\n\\xa0\\n\\xa0\\nReferences\\xa0\\n[Agh90]\\xa0G.\\xa0Agha,\\xa0\\xa0The\\xa0Structure\\xa0and\\xa0Semantics\\xa0of\\xa0Actor\\xa0Languages,\\xa0\\u200b\\nFoundations\\xa0of\\xa0\\nObject\\xadOriented\\xa0Languages\\u200b\\n,\\xa0pp.\\xa01\\xad59,\\xa0Springer,\\xa0(1990).\\xa0\\n[BC96]\\xa0K.\\xa0A.\\xa0Bharat\\xa0and\\xa0L.\\xa0Cardelli,\\xa0\\xa0Migratory\\xa0Applications,\\xa0SRC\\xa0Research\\xa0Report,\\xa0Digital\\xa0\\nEquipment\\xa0Corporation,\\xa0February\\xa0(1996).available\\xa0at\\xa0\\nhttp://www.research.digital.com/SRC/personal/Luca_Cardelli/Obliq/Obliq.html\\xa0\\n[Bor86]\\xa0A.\\xa0H.\\xa0Borning,\\xa0\\xa0Classes\\xa0versus\\xa0prototypes\\xa0in\\xa0object\\xadoriented\\xa0languages,\\xa0In\\xa0\\u200b\\nProceedings\\xa0\\nof\\xa0ACM/IEEE\\xa0Fall\\xa0Joint\\xa0Computer\\xa0Conference,\\u200b\\n\\xa0(1986).\\xa0Cited\\xa0in\\xa0[Car95].\\xa0\\n[BST89]\\xa0H.\\xa0E.\\xa0Bal,\\xa0J.\\xa0G.\\xa0Steiner\\xa0and\\xa0A.\\xa0S.\\xa0Tanenbaum,\\xa0\\xa0Programming\\xa0languages\\xa0for\\xa0distributed\\xa0\\ncomputing\\xa0systems,\\xa0\\u200b\\nACM\\xa0Computing\\xa0Surveys\\u200b\\n,\\xa0Volume\\xa021,\\xa0No\\xa03(September),\\xa0(1989).\\xa0\\n[Car95]\\xa0L.\\xa0Cardelli,\\xa0\\xa0A\\xa0Language\\xa0with\\xa0Distributed\\xa0Scope,\\xa0Digital\\xa0Equipment\\xa0Corporation,\\xa0\\nSystems\\xa0Research\\xa0Center,\\xa030\\xa0May\\xa0(1995).\\xa0\\n[Gra95a]\\xa0R.\\xa0S.\\xa0Gray,\\xa0\\xa0Ph.D.\\xa0Thesis\\xa0Proposal:\\xa0Transportable\\xa0Agents,\\xa0Dartmouth\\xa0College,\\xa019\\xa0May\\xa0\\n(1995).\\xa0\\n[Gra95b]\\xa0R.\\xa0S.\\xa0Gray,\\xa0Agent\\xa0Tcl:\\xa0A\\xa0transportable\\xa0agent\\xa0system,\\xa0\\xa0Dartmouth\\xa0College,\\xa017\\xa0\\nNovember\\xa0(1995).\\xa0\\n[Fla97]\\xa0D.\\xa0Flanagan,\\xa0\\u200b\\nJava\\xa0in\\xa0a\\xa0Nutshell:\\xa0A\\xa0Quick\\xa0Desktop\\xa0Reference\\u200b\\n,\\xa0Second\\xa0Edition,\\xa0O\\'Reilly\\xa0\\nand\\xa0Associates,\\xa0(1997).\\xa0\\n[HCK95]\\xa0C.\\xa0G.\\xa0Harrison.,\\xa0D.\\xa0M.\\xa0Chess\\xa0and\\xa0A.\\xa0Kershenbaum,\\xa0\\xa0Mobile\\xa0Agents:\\xa0Are\\xa0they\\xa0a\\xa0good\\xa0\\nidea?,\\xa0\\u200b\\nIBM\\xa0Research\\xa0Report\\u200b\\n,\\xa0IBM\\xa0Research\\xa0Division,\\xa0Number\\xa0RC\\xa019887,\\xa0(1995).\\xa0\\n[Hyl96]\\xa0J.\\xa0Hylton,\\xa0K.\\xa0Manheimer,\\xa0F.\\xa0L.\\xa0Drake,\\xa0Jr.,\\xa0B.\\xa0Warsaw,\\xa0R.\\xa0Masse\\xa0and\\xa0G.\\xa0van\\xa0Rossum,\\xa0\\nKnowbot\\xa0Programming:\\xa0System\\xa0Support\\xa0for\\xa0Mobile\\xa0Agents.\\xa0In\\xa0\\u200b\\nProceedings\\xa0of\\xa0the\\xa05th\\xa0\\nInternational\\xa0Workshop\\xa0on\\xa0Object\\xa0Orientation\\xa0in\\xa0Operating\\xa0Systems\\xa0(IWOOOS\\xa0\\'96)\\u200b\\n,\\xa0pages\\xa08\\xad13,\\xa0\\nOct.\\xa0(1996).\\xa0\\n[jav94]\\xa0The\\xa0Java\\xa0language:\\xa0A\\xa0white\\xa0paper.\\xa0\\xa0Sun\\xa0Microsystems\\xa0White\\xa0Paper,\\xa0Sun\\xa0Microsystems,\\xa0\\n(1994).\\xa0\\n[JRS94]\\xa0D.\\xa0Johansen,\\xa0R.\\xa0van\\xa0Renesse\\xa0and\\xa0F.\\xa0B.\\xa0Scheider,\\xa0\\xa0Operating\\xa0System\\xa0Support\\xa0for\\xa0\\nMobile\\xa0Agents.\\xa0\\xa0Position\\xa0paper\\xa0for\\xa0\\u200b\\n5th\\xa0IEEE\\xa0Workshop\\xa0on\\xa0Hot\\xa0Topics\\xa0in\\xa0Operating\\xa0Systems\\u200b\\n,\\xa0\\n(1994).\\xa0\\navailable\\xa0at\\u200b\\n\\xa0\\u200b\\nhttp://www.cs.uit.no/DOS/Tacoma/\\xa0\\n[KLO97]\\xa0G.\\xa0Karjoth,\\xa0D.\\xa0B.\\xa0Lange,\\xa0and\\xa0M.\\xa0Oshima,\\xa0\\xa0A\\xa0Security\\xa0Model\\xa0for\\xa0Aglets,\\xa0\\xa0\\u200b\\nIEEE\\xa0Internet\\xa0\\nComputing\\u200b\\n,\\xa0Volume\\xa01,\\xa0No\\xa04(July/August),\\xa0(1997).\\xa0\\navailabe\\xa0at\\xa0\\u200b\\n\\xa0\\u200b\\nhttp://dlib.computer.org/ic/books/ic1997/pdf/w4068.pdf\\xa0\\n[KZ97]\\xa0J.\\xa0Kiniry\\xa0and\\xa0D.\\xa0Zimmerman,\\xa0\\xa0Special\\xa0Feature:\\xa0A\\xa0Hands\\xadOn\\xa0Look\\xa0at\\xa0Java\\xa0Mobile\\xa0Agents,\\xa0\\nIEEE\\xa0Internet\\xa0Computing\\u200b\\n,\\xa0Volume\\xa01,\\xa0No\\xa04(July/August),\\xa0(1997).\\xa0\\navailable\\xa0at\\xa0\\u200b\\n\\xa0\\u200b\\nhttp://dlib.computer.org/ic/books/ic1997/pdf/w4021.pdf\\xa0\\n[Kot97]\\xa0D.\\xa0Kotz,\\xa0R.\\xa0Gray,\\xa0S.\\xa0Nog,\\xa0D.\\xa0Rus,\\xa0S.\\xa0Chawla\\xa0and\\xa0G.\\xa0Cybenko,\\xa0Agent\\xa0TCL:\\xa0Targeting\\xa0the\\xa0\\nNeeds\\xa0of\\xa0Mobile\\xa0Computers,\\xa0\\u200b\\nIEEE\\xa0Internet\\xa0Computing\\u200b\\n,\\xa0Volume\\xa01,\\xa0No\\xa04(July/August),\\xa0(1997).\\xa0\\navailable\\xa0at\\xa0ftp://ftp.cs.dartmouth.edu/kotz/papers/kotz:jmobile.ps.Z\\xa0\\n[OLW96]\\xa0J.\\xa0K.\\xa0Ousterhout,\\xa0J.\\xa0Y.\\xa0Levy\\xa0and\\xa0B.\\xa0B.\\xa0Welch,\\xa0\\xa0The\\xa0Safe\\xadTcl\\xa0Security\\xa0Model,\\xa0Sun\\xa0\\nMicrosystems\\xa0Laboratories,\\xa0(1996).\\xa0\\navailable\\xa0at\\xa0\\u200b\\n\\xa0\\u200b\\nhttp://www.sunlabs.com/people/john.ousterhout/safeTcl.html\\xa0\\n[Ous97]\\xa0J.\\xa0K.\\xa0Ousterhout,\\xa0\\xa0Scripting:\\xa0Higher\\xa0Level\\xa0Programming\\xa0for\\xa0the\\xa021st\\xa0Century,\\xa0Sun\\xa0\\nMicrosystems\\xa0Laboratories,\\xa0DRAFT\\xa0#2:\\xa0May\\xa010,\\xa0(1997)\\xa0\\navailable\\xa0at\\u200b\\n\\xa0\\u200b\\nhttp://www.sunlabs.com/~ouster/scripting.html\\xa0\\n[RP97]\\xa0K.\\xa0Rothermel\\xa0and\\xa0R.\\xa0Popescu\\xadZeletin,\\xa0\\xa0The\\xa0architecture\\xa0of\\xa0the\\xa0Ara\\xa0platform\\xa0for\\xa0mobile\\xa0\\nagents.\\xa0\\xa0In\\xa0\\u200b\\nProceedings\\xa0of\\xa0the\\xa0First\\xa0International\\xa0Workshop\\xa0on\\xa0Moblie\\xa0Agents,\\xa0MA\\'97\\u200b\\n,\\xa0April\\xa0\\n(1997).\\xa0\\navailable\\xa0at\\u200b\\n\\xa0\\u200b\\nhttp://www.uni\\xadkl.de/AG\\xadNehmer/Ara/ara.html\\xa0\\n[SBD94]\\xa0A.\\xa0Sah,\\xa0J.\\xa0Blow\\xa0and\\xa0B.\\xa0Dennis,\\xa0\\xa0An\\xa0introduction\\xa0to\\xa0the\\xa0Run\\xa0language.\\xa0\\xa0In\\xa0\\u200b\\nProceedings\\xa0\\nof\\xa0the\\xa01994\\xa0Tcl\\xa0Workshop\\u200b\\n,\\xa0June\\xa0(1994).\\xa0\\n[Som97]\\xa0B.\\xa0Sommers,\\xa0\\xa0Agents:\\xa0Not\\xa0just\\xa0for\\xa0Bond\\xa0anymore,\\xa0\\u200b\\nJava\\xa0World\\u200b\\n,\\xa0March\\xa0(1997).\\xa0\\navailable\\xa0at\\u200b\\n\\xa0\\u200b\\nhttp://www.javaworld.com/javaworld/jw\\xad04\\xad1997/jw\\xad04\\xadagents.html\\xa0\\n[TDB97]\\xa0P.\\xa0Tarau,\\xa0V.\\xa0Dahl,\\xa0K.\\xa0De\\xa0Bosschere,\\xa0\\xa0High\\xa0level\\xa0logic\\xa0programming\\xa0tools\\xa0for\\xa0remote\\xa0\\nexecution,\\xa0mobile\\xa0code\\xa0and\\xa0agents,\\xa0(1997).\\xa0\\navailable\\xa0at\\xa0\\u200b\\n\\xa0\\u200b\\nhttp://clement.info.umoncton.ca/html/remote/art.html\\xa0\\n[Ven96]\\xa0B.\\xa0Venners,\\xa0\\xa0Under\\xa0the\\xa0hood:\\xa0The\\xa0lean,\\xa0mean,\\xa0virtual\\xa0machine,\\u200b\\n\\xa0Java\\xa0World\\u200b\\n,\\xa0June\\xa0\\n(1996).\\xa0\\navailable\\xa0at\\u200b\\n\\xa0\\u200b\\nhttp://www.javaworld.com/javaworld/jw\\xad06\\xad1996/jw\\xad06\\xadvm.html\\xa0\\n[Ven97a]\\xa0B.\\xa0Venners,\\xa0Under\\xa0the\\xa0hood:\\xa0The\\xa0architecture\\xa0of\\xa0aglets,\\xa0\\u200b\\nJava\\xa0World\\u200b\\n,\\xa0April\\xa0(1997).\\xa0\\navailable\\xa0at\\u200b\\n\\xa0\\u200b\\nhttp://www.javaworld.com/javaworld/jw\\xad04\\xad1997/jw\\xad04\\xadhood.html\\xa0\\n[Ven97b]\\xa0B.\\xa0Venners,\\xa0Under\\xa0the\\xa0hood:\\xa0Java\\'s\\xa0security\\xa0architecture,\\xa0\\u200b\\nJava\\xa0World\\u200b\\n,\\xa0August\\xa0(1997).\\xa0\\navailable\\xa0at\\u200b\\n\\xa0\\u200b\\nhttp://www.javaworld.com/javaworld/jw\\xad08\\xad1997/jw\\xad08\\xadhood.html\\xa0\\n[Whi96]\\xa0J.\\xa0E.\\xa0White,\\xa0Mobile\\xa0Agents\\xa0White\\xa0Paper,\\xa0General\\xa0Magic,\\xa0(1996).\\xa0\\navailable\\xa0at\\u200b\\n\\xa0\\u200b\\nhttp://www.genmagic.com/agents/Whitepaper/whitepaper.html\\xa0\\n\\xa0\\xa0\\n\\xa0\\n\\xa0\\n'}\n",
            "Error Type: KeyError, Message: 'Input to PromptTemplate is missing variables {\"paper\\'s main focus\", \\'field/area\\', \\'key finding\\', \\'potential impact\\'}.  Expected: [\\'field/area\\', \\'key finding\\', \\'paper\\', \"paper\\'s main focus\", \\'potential impact\\'] Received: [\\'paper\\']\\nNote: if you intended {paper\\'s main focus} to be part of the string and not a variable, please escape it with double curly braces like: \\'{{paper\\'s main focus}}\\'.\\nFor troubleshooting, visit: https://python.langchain.com/docs/troubleshooting/errors/INVALID_PROMPT_INPUT '\n"
          ]
        },
        {
          "output_type": "stream",
          "name": "stdout",
          "text": [
            "\r[>                                                 ] 0/1\r[------------------------------------------------->] 1/1"
          ]
        }
      ],
      "source": [
        "tweet_generator = create_tweet_generator(new_prompt)\n",
        "\n",
        "updated_results = client.run_on_dataset(\n",
        "    dataset_name=ds_name,\n",
        "    llm_or_chain_factory=tweet_generator,\n",
        ")\n"
      ]
    },
    {
      "cell_type": "code",
      "execution_count": 84,
      "id": "58ac7137-a6c1-4c5a-aacb-cc1bd66b0be6",
      "metadata": {
        "colab": {
          "base_uri": "https://localhost:8080/",
          "height": 564
        },
        "id": "58ac7137-a6c1-4c5a-aacb-cc1bd66b0be6",
        "outputId": "4b78b570-fdd3-4d55-a590-80c30e62e687"
      },
      "outputs": [
        {
          "output_type": "error",
          "ename": "LangSmithError",
          "evalue": "Failed to POST /annotation-queues/b1e83d55-4f10-4821-af13-c46da6847292/runs in LangSmith API. HTTPError('400 Client Error: Bad Request for url: https://api.smith.langchain.com/annotation-queues/b1e83d55-4f10-4821-af13-c46da6847292/runs', '{\"detail\":\"At least one of \\'session\\', \\'id\\', \\'parent_run\\', \\'trace\\' or \\'reference_example\\' must be specified\"}')",
          "traceback": [
            "\u001b[0;31m---------------------------------------------------------------------------\u001b[0m",
            "\u001b[0;31mHTTPError\u001b[0m                                 Traceback (most recent call last)",
            "\u001b[0;32m/usr/local/lib/python3.11/dist-packages/langsmith/utils.py\u001b[0m in \u001b[0;36mraise_for_status_with_text\u001b[0;34m(response)\u001b[0m\n\u001b[1;32m    149\u001b[0m     \u001b[0;32mtry\u001b[0m\u001b[0;34m:\u001b[0m\u001b[0;34m\u001b[0m\u001b[0;34m\u001b[0m\u001b[0m\n\u001b[0;32m--> 150\u001b[0;31m         \u001b[0mresponse\u001b[0m\u001b[0;34m.\u001b[0m\u001b[0mraise_for_status\u001b[0m\u001b[0;34m(\u001b[0m\u001b[0;34m)\u001b[0m\u001b[0;34m\u001b[0m\u001b[0;34m\u001b[0m\u001b[0m\n\u001b[0m\u001b[1;32m    151\u001b[0m     \u001b[0;32mexcept\u001b[0m \u001b[0mrequests\u001b[0m\u001b[0;34m.\u001b[0m\u001b[0mHTTPError\u001b[0m \u001b[0;32mas\u001b[0m \u001b[0me\u001b[0m\u001b[0;34m:\u001b[0m\u001b[0;34m\u001b[0m\u001b[0;34m\u001b[0m\u001b[0m\n",
            "\u001b[0;32m/usr/local/lib/python3.11/dist-packages/requests/models.py\u001b[0m in \u001b[0;36mraise_for_status\u001b[0;34m(self)\u001b[0m\n\u001b[1;32m   1023\u001b[0m         \u001b[0;32mif\u001b[0m \u001b[0mhttp_error_msg\u001b[0m\u001b[0;34m:\u001b[0m\u001b[0;34m\u001b[0m\u001b[0;34m\u001b[0m\u001b[0m\n\u001b[0;32m-> 1024\u001b[0;31m             \u001b[0;32mraise\u001b[0m \u001b[0mHTTPError\u001b[0m\u001b[0;34m(\u001b[0m\u001b[0mhttp_error_msg\u001b[0m\u001b[0;34m,\u001b[0m \u001b[0mresponse\u001b[0m\u001b[0;34m=\u001b[0m\u001b[0mself\u001b[0m\u001b[0;34m)\u001b[0m\u001b[0;34m\u001b[0m\u001b[0;34m\u001b[0m\u001b[0m\n\u001b[0m\u001b[1;32m   1025\u001b[0m \u001b[0;34m\u001b[0m\u001b[0m\n",
            "\u001b[0;31mHTTPError\u001b[0m: 400 Client Error: Bad Request for url: https://api.smith.langchain.com/annotation-queues/b1e83d55-4f10-4821-af13-c46da6847292/runs",
            "\nThe above exception was the direct cause of the following exception:\n",
            "\u001b[0;31mHTTPError\u001b[0m                                 Traceback (most recent call last)",
            "\u001b[0;32m/usr/local/lib/python3.11/dist-packages/langsmith/client.py\u001b[0m in \u001b[0;36mrequest_with_retries\u001b[0;34m(self, method, pathname, request_kwargs, stop_after_attempt, retry_on, to_ignore, handle_response, _context, **kwargs)\u001b[0m\n\u001b[1;32m    764\u001b[0m                         )\n\u001b[0;32m--> 765\u001b[0;31m                     \u001b[0mls_utils\u001b[0m\u001b[0;34m.\u001b[0m\u001b[0mraise_for_status_with_text\u001b[0m\u001b[0;34m(\u001b[0m\u001b[0mresponse\u001b[0m\u001b[0;34m)\u001b[0m\u001b[0;34m\u001b[0m\u001b[0;34m\u001b[0m\u001b[0m\n\u001b[0m\u001b[1;32m    766\u001b[0m                     \u001b[0;32mreturn\u001b[0m \u001b[0mresponse\u001b[0m\u001b[0;34m\u001b[0m\u001b[0;34m\u001b[0m\u001b[0m\n",
            "\u001b[0;32m/usr/local/lib/python3.11/dist-packages/langsmith/utils.py\u001b[0m in \u001b[0;36mraise_for_status_with_text\u001b[0;34m(response)\u001b[0m\n\u001b[1;32m    151\u001b[0m     \u001b[0;32mexcept\u001b[0m \u001b[0mrequests\u001b[0m\u001b[0;34m.\u001b[0m\u001b[0mHTTPError\u001b[0m \u001b[0;32mas\u001b[0m \u001b[0me\u001b[0m\u001b[0;34m:\u001b[0m\u001b[0;34m\u001b[0m\u001b[0;34m\u001b[0m\u001b[0m\n\u001b[0;32m--> 152\u001b[0;31m         \u001b[0;32mraise\u001b[0m \u001b[0mrequests\u001b[0m\u001b[0;34m.\u001b[0m\u001b[0mHTTPError\u001b[0m\u001b[0;34m(\u001b[0m\u001b[0mstr\u001b[0m\u001b[0;34m(\u001b[0m\u001b[0me\u001b[0m\u001b[0;34m)\u001b[0m\u001b[0;34m,\u001b[0m \u001b[0mresponse\u001b[0m\u001b[0;34m.\u001b[0m\u001b[0mtext\u001b[0m\u001b[0;34m)\u001b[0m \u001b[0;32mfrom\u001b[0m \u001b[0me\u001b[0m  \u001b[0;31m# type: ignore[call-arg]\u001b[0m\u001b[0;34m\u001b[0m\u001b[0;34m\u001b[0m\u001b[0m\n\u001b[0m\u001b[1;32m    153\u001b[0m \u001b[0;34m\u001b[0m\u001b[0m\n",
            "\u001b[0;31mHTTPError\u001b[0m: [Errno 400 Client Error: Bad Request for url: https://api.smith.langchain.com/annotation-queues/b1e83d55-4f10-4821-af13-c46da6847292/runs] {\"detail\":\"At least one of 'session', 'id', 'parent_run', 'trace' or 'reference_example' must be specified\"}",
            "\nDuring handling of the above exception, another exception occurred:\n",
            "\u001b[0;31mLangSmithError\u001b[0m                            Traceback (most recent call last)",
            "\u001b[0;32m<ipython-input-84-fc23c01efb4e>\u001b[0m in \u001b[0;36m<cell line: 0>\u001b[0;34m()\u001b[0m\n\u001b[0;32m----> 1\u001b[0;31m client.add_runs_to_annotation_queue(\n\u001b[0m\u001b[1;32m      2\u001b[0m     \u001b[0mq\u001b[0m\u001b[0;34m.\u001b[0m\u001b[0mid\u001b[0m\u001b[0;34m,\u001b[0m\u001b[0;34m\u001b[0m\u001b[0;34m\u001b[0m\u001b[0m\n\u001b[1;32m      3\u001b[0m     run_ids=[\n\u001b[1;32m      4\u001b[0m         \u001b[0mr\u001b[0m\u001b[0;34m.\u001b[0m\u001b[0mid\u001b[0m\u001b[0;34m\u001b[0m\u001b[0;34m\u001b[0m\u001b[0m\n\u001b[1;32m      5\u001b[0m         \u001b[0;32mfor\u001b[0m \u001b[0mr\u001b[0m \u001b[0;32min\u001b[0m \u001b[0mclient\u001b[0m\u001b[0;34m.\u001b[0m\u001b[0mlist_runs\u001b[0m\u001b[0;34m(\u001b[0m\u001b[0mproject_name\u001b[0m\u001b[0;34m=\u001b[0m\u001b[0mupdated_results\u001b[0m\u001b[0;34m[\u001b[0m\u001b[0;34m\"project_name\"\u001b[0m\u001b[0;34m]\u001b[0m\u001b[0;34m,\u001b[0m \u001b[0mexecution_order\u001b[0m\u001b[0;34m=\u001b[0m\u001b[0;36m1\u001b[0m\u001b[0;34m)\u001b[0m\u001b[0;34m\u001b[0m\u001b[0;34m\u001b[0m\u001b[0m\n",
            "\u001b[0;32m/usr/local/lib/python3.11/dist-packages/langsmith/client.py\u001b[0m in \u001b[0;36madd_runs_to_annotation_queue\u001b[0;34m(self, queue_id, run_ids)\u001b[0m\n\u001b[1;32m   6151\u001b[0m             \u001b[0;32mNone\u001b[0m\u001b[0;34m\u001b[0m\u001b[0;34m\u001b[0m\u001b[0m\n\u001b[1;32m   6152\u001b[0m         \"\"\"\n\u001b[0;32m-> 6153\u001b[0;31m         response = self.request_with_retries(\n\u001b[0m\u001b[1;32m   6154\u001b[0m             \u001b[0;34m\"POST\"\u001b[0m\u001b[0;34m,\u001b[0m\u001b[0;34m\u001b[0m\u001b[0;34m\u001b[0m\u001b[0m\n\u001b[1;32m   6155\u001b[0m             \u001b[0;34mf\"/annotation-queues/{_as_uuid(queue_id, 'queue_id')}/runs\"\u001b[0m\u001b[0;34m,\u001b[0m\u001b[0;34m\u001b[0m\u001b[0;34m\u001b[0m\u001b[0m\n",
            "\u001b[0;32m/usr/local/lib/python3.11/dist-packages/langsmith/client.py\u001b[0m in \u001b[0;36mrequest_with_retries\u001b[0;34m(self, method, pathname, request_kwargs, stop_after_attempt, retry_on, to_ignore, handle_response, _context, **kwargs)\u001b[0m\n\u001b[1;32m    812\u001b[0m                             )\n\u001b[1;32m    813\u001b[0m                         \u001b[0;32melse\u001b[0m\u001b[0;34m:\u001b[0m\u001b[0;34m\u001b[0m\u001b[0;34m\u001b[0m\u001b[0m\n\u001b[0;32m--> 814\u001b[0;31m                             raise ls_utils.LangSmithError(\n\u001b[0m\u001b[1;32m    815\u001b[0m                                 \u001b[0;34mf\"Failed to {method} {pathname} in LangSmith\"\u001b[0m\u001b[0;34m\u001b[0m\u001b[0;34m\u001b[0m\u001b[0m\n\u001b[1;32m    816\u001b[0m                                 \u001b[0;34mf\" API. {repr(e)}\"\u001b[0m\u001b[0;34m\u001b[0m\u001b[0;34m\u001b[0m\u001b[0m\n",
            "\u001b[0;31mLangSmithError\u001b[0m: Failed to POST /annotation-queues/b1e83d55-4f10-4821-af13-c46da6847292/runs in LangSmith API. HTTPError('400 Client Error: Bad Request for url: https://api.smith.langchain.com/annotation-queues/b1e83d55-4f10-4821-af13-c46da6847292/runs', '{\"detail\":\"At least one of \\'session\\', \\'id\\', \\'parent_run\\', \\'trace\\' or \\'reference_example\\' must be specified\"}')"
          ]
        }
      ],
      "source": [
        "client.add_runs_to_annotation_queue(\n",
        "    q.id,\n",
        "    run_ids=[\n",
        "        r.id\n",
        "        for r in client.list_runs(project_name=updated_results[\"project_name\"], execution_order=1)\n",
        "    ],\n",
        ")\n"
      ]
    },
    {
      "cell_type": "markdown",
      "id": "f79ed160-28d4-493e-8e10-6420ded71e1a",
      "metadata": {
        "id": "f79ed160-28d4-493e-8e10-6420ded71e1a"
      },
      "source": [
        "Then review/provide feedback/repeat.\n",
        "\n",
        "Once you've provided feedback, you can continue here:"
      ]
    },
    {
      "cell_type": "code",
      "execution_count": null,
      "id": "f403a5f8-00b2-4d20-8d3b-b5f1cf050718",
      "metadata": {
        "id": "f403a5f8-00b2-4d20-8d3b-b5f1cf050718"
      },
      "outputs": [],
      "source": [
        "formatted_feedback = get_formatted_feedback(updated_results[\"project_name\"])"
      ]
    },
    {
      "cell_type": "code",
      "execution_count": null,
      "id": "5103da25-8b28-44dc-b816-a972cff3c0b5",
      "metadata": {
        "id": "5103da25-8b28-44dc-b816-a972cff3c0b5"
      },
      "outputs": [],
      "source": [
        "# Swap them out\n",
        "current_prompt = new_prompt\n",
        "new_prompt = optimizer.invoke(\n",
        "    {\n",
        "        \"current_prompt\": current_prompt,\n",
        "        \"annotated_predictions\": \"\\n\\n\".join(formatted_feedback).strip(),\n",
        "    }\n",
        ")"
      ]
    },
    {
      "cell_type": "code",
      "execution_count": null,
      "id": "c5e46e96-ad32-4251-8e51-72d9bf582a2b",
      "metadata": {
        "id": "c5e46e96-ad32-4251-8e51-72d9bf582a2b"
      },
      "outputs": [],
      "source": [
        "print(\"Previous Prompt\\n\\n\" + current_prompt)\n",
        "print(\"*\" * 80 + \"\\nNew Prompt\\n\\n\" + new_prompt)"
      ]
    },
    {
      "cell_type": "markdown",
      "id": "1b952f0d-a3e2-4e09-99eb-af75c03416f2",
      "metadata": {
        "id": "1b952f0d-a3e2-4e09-99eb-af75c03416f2"
      },
      "source": [
        "## Conclusion\n",
        "\n",
        "Congrats! You've \"optimized\" a prompt on a subjective task using human feedback and an automatic prompt engineer flow. LangSmith makes it easy to score and improve LLM systems even when it is hard to craft a hard metric.\n",
        "\n",
        "You can push the optimized version of your prompt to the hub (here and in future iterations) to version each change."
      ]
    },
    {
      "cell_type": "markdown",
      "id": "22adabff-26ff-48ec-8faf-d0d43031f2c0",
      "metadata": {
        "id": "22adabff-26ff-48ec-8faf-d0d43031f2c0"
      },
      "source": [
        "#### Extensions:\n",
        "\n",
        "We haven't optimized the meta-prompts above - feel free to make them your own by forking and updating them!\n",
        "Some easy extensions you could try out include:\n",
        "1. Including the full history of previous prompts and annotations (or most recent N prompts with feedback) in the \"optimizer prompt\" step. This may help it better converge (especially if you're using a small dataset)\n",
        "2. Updating the optimizer prompt to encourage usage of few-shot examples, or to encourage other prompting tricks.\n",
        "3. Incorporating an LLM judge by including the annotation few-shot examples and instructing it to critique the generated outputs: this could help speed-up the human annotation process.\n",
        "4. Generating and including a validation set (to avoid over-fitting this training dataset)"
      ]
    }
  ],
  "metadata": {
    "kernelspec": {
      "display_name": "Python 3 (ipykernel)",
      "language": "python",
      "name": "python3"
    },
    "language_info": {
      "codemirror_mode": {
        "name": "ipython",
        "version": 3
      },
      "file_extension": ".py",
      "mimetype": "text/x-python",
      "name": "python",
      "nbconvert_exporter": "python",
      "pygments_lexer": "ipython3",
      "version": "3.11.2"
    },
    "colab": {
      "provenance": [],
      "include_colab_link": true
    }
  },
  "nbformat": 4,
  "nbformat_minor": 5
}